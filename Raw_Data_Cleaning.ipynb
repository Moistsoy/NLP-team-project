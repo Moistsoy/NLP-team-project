{
  "nbformat": 4,
  "nbformat_minor": 0,
  "metadata": {
    "colab": {
      "name": "Raw_Data_Cleaning.ipynb",
      "provenance": [],
      "collapsed_sections": [],
      "toc_visible": true,
      "authorship_tag": "ABX9TyPgrpG7fDWzh3TXOjrxAqnI",
      "include_colab_link": true
    },
    "kernelspec": {
      "name": "python3",
      "display_name": "Python 3"
    },
    "language_info": {
      "name": "python"
    },
    "accelerator": "GPU"
  },
  "cells": [
    {
      "cell_type": "markdown",
      "metadata": {
        "id": "view-in-github",
        "colab_type": "text"
      },
      "source": [
        "<a href=\"https://colab.research.google.com/github/Moistsoy/NLP-team-project/blob/main/Raw_Data_Cleaning.ipynb\" target=\"_parent\"><img src=\"https://colab.research.google.com/assets/colab-badge.svg\" alt=\"Open In Colab\"/></a>"
      ]
    },
    {
      "cell_type": "code",
      "metadata": {
        "id": "TFWKhVaROiXO"
      },
      "source": [
        "!pip install text2emotion"
      ],
      "execution_count": null,
      "outputs": []
    },
    {
      "cell_type": "code",
      "metadata": {
        "id": "_p-AE0_EBtHS"
      },
      "source": [
        "!git clone https://github.com/Moistsoy/NLP-team-project.git"
      ],
      "execution_count": null,
      "outputs": []
    },
    {
      "cell_type": "code",
      "metadata": {
        "id": "IGQFyz3Vvs2K"
      },
      "source": [
        "import sys\n",
        "sys.path.insert(0, '/content/NLP-team-project/data/raw')\n",
        "path = '/content/NLP-team-project/data/raw/'"
      ],
      "execution_count": 3,
      "outputs": []
    },
    {
      "cell_type": "code",
      "metadata": {
        "id": "RYTLwblewQdk"
      },
      "source": [
        "import os"
      ],
      "execution_count": 4,
      "outputs": []
    },
    {
      "cell_type": "code",
      "metadata": {
        "id": "kx72bX7JwCeK"
      },
      "source": [
        "# data/raw 폴더 안에 있는 파일 이름 원하는 것 입력. 다수의 data를 한번에 cleaning 하는 코드로 발전시키면 좋을 듯.\n",
        "filename = path + 'Romeo and Juliet.txt'\n",
        "with open(filename) as f:\n",
        "    text = f.read()\n",
        "\n",
        "original = text"
      ],
      "execution_count": 5,
      "outputs": []
    },
    {
      "cell_type": "code",
      "metadata": {
        "id": "KO-1BHei0MNS"
      },
      "source": [
        "import re"
      ],
      "execution_count": 6,
      "outputs": []
    },
    {
      "cell_type": "code",
      "metadata": {
        "id": "MtUpY4yvA15i"
      },
      "source": [
        "# 줄바꿈 및 불필요한 공백 제거\n",
        "text = text.replace('.\\n', ' ')\n",
        "text = text.replace('\\n', ' ')\n",
        "text = text.replace('\\n\\n', ' ')\n",
        "text = text.replace('\\n\\n\\n', ' ')\n",
        "text = text.replace('\\n\\n\\n\\n', ' ')\n",
        "text = text.replace('\\t', ' ')\n",
        "text = text.replace('\\t\\t', ' ')\n",
        "text = text.replace('\\r', ' ')\n",
        "text = text.replace('  ', ' ')\n",
        "text = text.replace('  ', ' ')\n",
        "text = text.replace('  ', ' ')\n",
        "text = text.replace('  ', ' ')\n",
        "text = text.replace('  ', ' ')\n",
        "text = text.replace('  ', ' ')"
      ],
      "execution_count": 7,
      "outputs": []
    },
    {
      "cell_type": "code",
      "metadata": {
        "id": "wviUBIA2Q7hq"
      },
      "source": [
        "# 괄호 안 문자 제거\n",
        "text = re.sub(r'\\([^)]*\\)', '', text)\n",
        "text = re.sub(r'\\[[^)]*\\]', '', text)\n",
        "text = re.sub(r'\\{[^)]*\\}', '', text)"
      ],
      "execution_count": 8,
      "outputs": []
    },
    {
      "cell_type": "code",
      "metadata": {
        "id": "-5dxeDanBpax"
      },
      "source": [
        "# 특수 문자 제거\n",
        "text = re.sub('[-=+,#/\\?:^$@*\\\"※~&%ㆍ!』\\\\‘|\\(\\)\\[\\]\\<\\>`\\'…》]', '', text)"
      ],
      "execution_count": 9,
      "outputs": []
    },
    {
      "cell_type": "code",
      "metadata": {
        "id": "0o0xROc5NHk7"
      },
      "source": [
        "# 대문자로만 이루어진 단어 제거\n",
        "text = re.sub('[A-Z][A-Z]', '', text)"
      ],
      "execution_count": 10,
      "outputs": []
    },
    {
      "cell_type": "code",
      "metadata": {
        "id": "7H9r_cs3-7F5"
      },
      "source": [
        "# 따옴표 안의 대사 추출\n",
        "line = re.findall('\"([^\"]*)\"', text)"
      ],
      "execution_count": 11,
      "outputs": []
    },
    {
      "cell_type": "code",
      "metadata": {
        "id": "x0sxYxXEFjGC"
      },
      "source": [
        "# Cleaning 이후의 text 확인\n",
        "text"
      ],
      "execution_count": null,
      "outputs": []
    },
    {
      "cell_type": "code",
      "metadata": {
        "id": "829t2BQtOdGj"
      },
      "source": [
        "# 결괏값 차이 검증을 위해 EA\n",
        "import text2emotion as te\n",
        "\n",
        "# 원문 text EA\n",
        "te.get_emotion(original)"
      ],
      "execution_count": null,
      "outputs": []
    },
    {
      "cell_type": "code",
      "metadata": {
        "id": "5IhHkBu72Dcb"
      },
      "source": [
        "# Preprocessed text EA\n",
        "te.get_emotion(text)\n",
        "\n",
        "# 아주 약간의 결과 차이가 존재함."
      ],
      "execution_count": null,
      "outputs": []
    }
  ]
}