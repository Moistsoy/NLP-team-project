{
  "nbformat": 4,
  "nbformat_minor": 0,
  "metadata": {
    "colab": {
      "name": "Romeo&Juliet_pre-summarized.ipynb",
      "provenance": [],
      "collapsed_sections": [],
      "authorship_tag": "ABX9TyMgGf6MHYccb1i/Cub3vEzq",
      "include_colab_link": true
    },
    "kernelspec": {
      "name": "python3",
      "display_name": "Python 3"
    },
    "language_info": {
      "name": "python"
    }
  },
  "cells": [
    {
      "cell_type": "markdown",
      "metadata": {
        "id": "view-in-github",
        "colab_type": "text"
      },
      "source": [
        "<a href=\"https://colab.research.google.com/github/Moistsoy/NLP-team-project/blob/main/Romeo%26Juliet_pre_summarized.ipynb\" target=\"_parent\"><img src=\"https://colab.research.google.com/assets/colab-badge.svg\" alt=\"Open In Colab\"/></a>"
      ]
    },
    {
      "cell_type": "code",
      "metadata": {
        "id": "PCMAvVHu5_HV"
      },
      "source": [
        "!pip install transformers"
      ],
      "execution_count": null,
      "outputs": []
    },
    {
      "cell_type": "code",
      "metadata": {
        "id": "YY6tug4p536h"
      },
      "source": [
        "!pip install text2emotion"
      ],
      "execution_count": null,
      "outputs": []
    },
    {
      "cell_type": "code",
      "metadata": {
        "id": "3IgWOKS-6N2-"
      },
      "source": [
        "full_text = \"\"\"In the streets of Verona, another brawl breaks out between the servants of the feuding noble families of Capulet and Montague. Benvolio, a Montague, tries to stop the fighting, but he is himself embroiled when Tybalt, a rash Capulet, arrives on the scene. After citizens outraged by the constant violence beat back the warring factions, Prince Escalus, the ruler of Verona, attempts to prevent any further conflicts between the families by decreeing death for any individual who disturbs the peace in the future. Romeo, the son of Montague, runs into his cousin Benvolio, who had earlier seen Romeo moping in a grove of sycamores. After some prodding by Benvolio, Romeo confides that he is in love with Rosaline, a woman who does not return his affections. Benvolio counsels him to forget this woman and find another, more beautiful one, but Romeo remains despondent. Meanwhile, Paris, a kinsman of the Prince, seeks Juliet’s hand in marriage. Her father Capulet, though happy at the match, asks Paris to wait two years, since Juliet is not yet even fourteen. Capulet dispatches a servant with a list of people to invite to a masquerade and feast he traditionally holds. He invites Paris to the feast, hoping that Paris will begin to win Juliet’s heart. Romeo and Benvolio, still discussing Rosaline, encounter the Capulet servant bearing the list of invitations. Benvolio suggests that they attend, since that will allow Romeo to compare his beloved to other beautiful women of Verona. Romeo agrees to go with Benvolio to the feast, but only because Rosaline, whose name he reads on the list, will be there. In Capulet’s household, young Juliet talks with her mother, Lady Capulet, and her nurse about the possibility of marrying Paris. Juliet has not yet considered marriage, but agrees to look at Paris during the feast to see if she thinks she could fall in love with him. The feast begins. A melancholy Romeo follows Benvolio and their witty friend Mercutio to Capulet’s house. Once inside, Romeo sees Juliet from a distance and instantly falls in love with her; he forgets about Rosaline completely. As Romeo watches Juliet, entranced, a young Capulet, Tybalt, recognizes him, and is enraged that a Montague would sneak into a Capulet feast. He prepares to attack, but Capulet holds him back. Soon, Romeo speaks to Juliet, and the two experience a profound attraction. They kiss, not even knowing each other’s names. When he finds out from Juliet’s nurse that she is the daughter of Capulet—his family’s enemy—he becomes distraught. When Juliet learns that the young man she has just kissed is the son of Montague, she grows equally upset. As Mercutio and Benvolio leave the Capulet estate, Romeo leaps over the orchard wall into the garden, unable to leave Juliet behind. From his hiding place, he sees Juliet in a window above the orchard and hears her speak his name. He calls out to her, and they exchange vows of love. Romeo hurries to see his friend and confessor Friar Lawrence, who, though shocked at the sudden turn of Romeo’s heart, agrees to marry the young lovers in secret since he sees in their love the possibility of ending the age-old feud between Capulet and Montague. The following day, Romeo and Juliet meet at Friar Lawrence’s cell and are married. The Nurse, who is privy to the secret, procures a ladder, which Romeo will use to climb into Juliet’s window for their wedding night. The next day, Benvolio and Mercutio encounter Tybalt—Juliet’s cousin—who, still enraged that Romeo attended Capulet’s feast, has challenged Romeo to a duel. Romeo appears. Now Tybalt’s kinsman by marriage, Romeo begs the Capulet to hold off the duel until he understands why Romeo does not want to fight. Disgusted with this plea for peace, Mercutio says that he will fight Tybalt himself. The two begin to duel. Romeo tries to stop them by leaping between the combatants. Tybalt stabs Mercutio under Romeo’s arm, and Mercutio dies. Romeo, in a rage, kills Tybalt. Romeo flees from the scene. Soon after, the Prince declares him forever banished from Verona for his crime. Friar Lawrence arranges for Romeo to spend his wedding night with Juliet before he has to leave for Mantua the following morning. In her room, Juliet awaits the arrival of her new husband. The Nurse enters, and, after some confusion, tells Juliet that Romeo has killed Tybalt. Distraught, Juliet suddenly finds herself married to a man who has killed her kinsman. But she resettles herself, and realizes that her duty belongs with her love: to Romeo. Romeo sneaks into Juliet’s room that night, and at last they consummate their marriage and their love. Morning comes, and the lovers bid farewell, unsure when they will see each other again. Juliet learns that her father, affected by the recent events, now intends for her to marry Paris in just three days. Unsure of how to proceed—unable to reveal to her parents that she is married to Romeo, but unwilling to marry Paris now that she is Romeo’s wife—Juliet asks her nurse for advice. She counsels Juliet to proceed as if Romeo were dead and to marry Paris, who is a better match anyway. Disgusted with the Nurse’s disloyalty, Juliet disregards her advice and hurries to Friar Lawrence. He concocts a plan to reunite Juliet with Romeo in Mantua. The night before her wedding to Paris, Juliet must drink a potion that will make her appear to be dead. After she is laid to rest in the family’s crypt, the Friar and Romeo will secretly retrieve her, and she will be free to live with Romeo, away from their parents’ feuding. Juliet returns home to discover the wedding has been moved ahead one day, and she is to be married tomorrow. That night, Juliet drinks the potion, and the Nurse discovers her, apparently dead, the next morning. The Capulets grieve, and Juliet is entombed according to plan. But Friar Lawrence’s message explaining the plan to Romeo never reaches Mantua. Its bearer, Friar John, gets confined to a quarantined house. Romeo hears only that Juliet is dead. Romeo learns only of Juliet’s death and decides to kill himself rather than live without her. He buys a vial of poison from a reluctant Apothecary, then speeds back to Verona to take his own life at Juliet’s tomb. Outside the Capulet crypt, Romeo comes upon Paris, who is scattering flowers on Juliet’s grave. They fight, and Romeo kills Paris. He enters the tomb, sees Juliet’s inanimate body, drinks the poison, and dies by her side. Just then, Friar Lawrence enters and realizes that Romeo has killed Paris and himself. At the same time, Juliet awakes. Friar Lawrence hears the coming of the watch. When Juliet refuses to leave with him, he flees alone. Juliet sees her beloved Romeo and realizes he has killed himself with poison. She kisses his poisoned lips, and when that does not kill her, buries his dagger in her chest, falling dead upon his body. The watch arrives, followed closely by the Prince, the Capulets, and Montague. Montague declares that Lady Montague has died of grief over Romeo’s exile. Seeing their children’s bodies, Capulet and Montague agree to end their long-standing feud and to raise gold statues of their children side-by-side in a newly peaceful Verona.\"\"\""
      ],
      "execution_count": 2,
      "outputs": []
    },
    {
      "cell_type": "code",
      "metadata": {
        "id": "w5aqMZ0R8pHO"
      },
      "source": [
        "import text2emotion as te\n",
        "te.get_emotion(full_text)"
      ],
      "execution_count": null,
      "outputs": []
    },
    {
      "cell_type": "code",
      "metadata": {
        "colab": {
          "base_uri": "https://localhost:8080/"
        },
        "id": "8ytT9QBw-1_x",
        "outputId": "2ad16f75-1149-4b99-c5b0-a2ee71a44a6e"
      },
      "source": [
        "import nltk\n",
        "from nltk.tokenize import sent_tokenize\n",
        "\n",
        "tokenized = nltk.sent_tokenize(full_text)"
      ],
      "execution_count": 19,
      "outputs": [
        {
          "output_type": "execute_result",
          "data": {
            "text/plain": [
              "['In the streets of Verona, another brawl breaks out between the servants of the feuding noble families of Capulet and Montague.',\n",
              " 'Benvolio, a Montague, tries to stop the fighting, but he is himself embroiled when Tybalt, a rash Capulet, arrives on the scene.',\n",
              " 'After citizens outraged by the constant violence beat back the warring factions, Prince Escalus, the ruler of Verona, attempts to prevent any further conflicts between the families by decreeing death for any individual who disturbs the peace in the future.',\n",
              " 'Romeo, the son of Montague, runs into his cousin Benvolio, who had earlier seen Romeo moping in a grove of sycamores.',\n",
              " 'After some prodding by Benvolio, Romeo confides that he is in love with Rosaline, a woman who does not return his affections.',\n",
              " 'Benvolio counsels him to forget this woman and find another, more beautiful one, but Romeo remains despondent.',\n",
              " 'Meanwhile, Paris, a kinsman of the Prince, seeks Juliet’s hand in marriage.',\n",
              " 'Her father Capulet, though happy at the match, asks Paris to wait two years, since Juliet is not yet even fourteen.',\n",
              " 'Capulet dispatches a servant with a list of people to invite to a masquerade and feast he traditionally holds.',\n",
              " 'He invites Paris to the feast, hoping that Paris will begin to win Juliet’s heart.',\n",
              " 'Romeo and Benvolio, still discussing Rosaline, encounter the Capulet servant bearing the list of invitations.',\n",
              " 'Benvolio suggests that they attend, since that will allow Romeo to compare his beloved to other beautiful women of Verona.',\n",
              " 'Romeo agrees to go with Benvolio to the feast, but only because Rosaline, whose name he reads on the list, will be there.',\n",
              " 'In Capulet’s household, young Juliet talks with her mother, Lady Capulet, and her nurse about the possibility of marrying Paris.',\n",
              " 'Juliet has not yet considered marriage, but agrees to look at Paris during the feast to see if she thinks she could fall in love with him.',\n",
              " 'The feast begins.',\n",
              " 'A melancholy Romeo follows Benvolio and their witty friend Mercutio to Capulet’s house.',\n",
              " 'Once inside, Romeo sees Juliet from a distance and instantly falls in love with her; he forgets about Rosaline completely.',\n",
              " 'As Romeo watches Juliet, entranced, a young Capulet, Tybalt, recognizes him, and is enraged that a Montague would sneak into a Capulet feast.',\n",
              " 'He prepares to attack, but Capulet holds him back.',\n",
              " 'Soon, Romeo speaks to Juliet, and the two experience a profound attraction.',\n",
              " 'They kiss, not even knowing each other’s names.',\n",
              " 'When he finds out from Juliet’s nurse that she is the daughter of Capulet—his family’s enemy—he becomes distraught.',\n",
              " 'When Juliet learns that the young man she has just kissed is the son of Montague, she grows equally upset.',\n",
              " 'As Mercutio and Benvolio leave the Capulet estate, Romeo leaps over the orchard wall into the garden, unable to leave Juliet behind.',\n",
              " 'From his hiding place, he sees Juliet in a window above the orchard and hears her speak his name.',\n",
              " 'He calls out to her, and they exchange vows of love.',\n",
              " 'Romeo hurries to see his friend and confessor Friar Lawrence, who, though shocked at the sudden turn of Romeo’s heart, agrees to marry the young lovers in secret since he sees in their love the possibility of ending the age-old feud between Capulet and Montague.',\n",
              " 'The following day, Romeo and Juliet meet at Friar Lawrence’s cell and are married.',\n",
              " 'The Nurse, who is privy to the secret, procures a ladder, which Romeo will use to climb into Juliet’s window for their wedding night.',\n",
              " 'The next day, Benvolio and Mercutio encounter Tybalt—Juliet’s cousin—who, still enraged that Romeo attended Capulet’s feast, has challenged Romeo to a duel.',\n",
              " 'Romeo appears.',\n",
              " 'Now Tybalt’s kinsman by marriage, Romeo begs the Capulet to hold off the duel until he understands why Romeo does not want to fight.',\n",
              " 'Disgusted with this plea for peace, Mercutio says that he will fight Tybalt himself.',\n",
              " 'The two begin to duel.',\n",
              " 'Romeo tries to stop them by leaping between the combatants.',\n",
              " 'Tybalt stabs Mercutio under Romeo’s arm, and Mercutio dies.',\n",
              " 'Romeo, in a rage, kills Tybalt.',\n",
              " 'Romeo flees from the scene.',\n",
              " 'Soon after, the Prince declares him forever banished from Verona for his crime.',\n",
              " 'Friar Lawrence arranges for Romeo to spend his wedding night with Juliet before he has to leave for Mantua the following morning.',\n",
              " 'In her room, Juliet awaits the arrival of her new husband.',\n",
              " 'The Nurse enters, and, after some confusion, tells Juliet that Romeo has killed Tybalt.',\n",
              " 'Distraught, Juliet suddenly finds herself married to a man who has killed her kinsman.',\n",
              " 'But she resettles herself, and realizes that her duty belongs with her love: to Romeo.',\n",
              " 'Romeo sneaks into Juliet’s room that night, and at last they consummate their marriage and their love.',\n",
              " 'Morning comes, and the lovers bid farewell, unsure when they will see each other again.',\n",
              " 'Juliet learns that her father, affected by the recent events, now intends for her to marry Paris in just three days.',\n",
              " 'Unsure of how to proceed—unable to reveal to her parents that she is married to Romeo, but unwilling to marry Paris now that she is Romeo’s wife—Juliet asks her nurse for advice.',\n",
              " 'She counsels Juliet to proceed as if Romeo were dead and to marry Paris, who is a better match anyway.',\n",
              " 'Disgusted with the Nurse’s disloyalty, Juliet disregards her advice and hurries to Friar Lawrence.',\n",
              " 'He concocts a plan to reunite Juliet with Romeo in Mantua.',\n",
              " 'The night before her wedding to Paris, Juliet must drink a potion that will make her appear to be dead.',\n",
              " 'After she is laid to rest in the family’s crypt, the Friar and Romeo will secretly retrieve her, and she will be free to live with Romeo, away from their parents’ feuding.',\n",
              " 'Juliet returns home to discover the wedding has been moved ahead one day, and she is to be married tomorrow.',\n",
              " 'That night, Juliet drinks the potion, and the Nurse discovers her, apparently dead, the next morning.',\n",
              " 'The Capulets grieve, and Juliet is entombed according to plan.',\n",
              " 'But Friar Lawrence’s message explaining the plan to Romeo never reaches Mantua.',\n",
              " 'Its bearer, Friar John, gets confined to a quarantined house.',\n",
              " 'Romeo hears only that Juliet is dead.',\n",
              " 'Romeo learns only of Juliet’s death and decides to kill himself rather than live without her.',\n",
              " 'He buys a vial of poison from a reluctant Apothecary, then speeds back to Verona to take his own life at Juliet’s tomb.',\n",
              " 'Outside the Capulet crypt, Romeo comes upon Paris, who is scattering flowers on Juliet’s grave.',\n",
              " 'They fight, and Romeo kills Paris.',\n",
              " 'He enters the tomb, sees Juliet’s inanimate body, drinks the poison, and dies by her side.',\n",
              " 'Just then, Friar Lawrence enters and realizes that Romeo has killed Paris and himself.',\n",
              " 'At the same time, Juliet awakes.',\n",
              " 'Friar Lawrence hears the coming of the watch.',\n",
              " 'When Juliet refuses to leave with him, he flees alone.',\n",
              " 'Juliet sees her beloved Romeo and realizes he has killed himself with poison.',\n",
              " 'She kisses his poisoned lips, and when that does not kill her, buries his dagger in her chest, falling dead upon his body.',\n",
              " 'The watch arrives, followed closely by the Prince, the Capulets, and Montague.',\n",
              " 'Montague declares that Lady Montague has died of grief over Romeo’s exile.',\n",
              " 'Seeing their children’s bodies, Capulet and Montague agree to end their long-standing feud and to raise gold statues of their children side-by-side in a newly peaceful Verona.']"
            ]
          },
          "metadata": {},
          "execution_count": 19
        }
      ]
    },
    {
      "cell_type": "code",
      "metadata": {
        "id": "iVvC21nN_v8i"
      },
      "source": [
        "grouped = []\n",
        "\n",
        "# 5 문장 단위로 묶기\n",
        "for i in range((len(tokenized) // 5) + 1):\n",
        "    grouped.append(tokenized[5*i:5*(i+1)])"
      ],
      "execution_count": null,
      "outputs": []
    },
    {
      "cell_type": "code",
      "metadata": {
        "colab": {
          "base_uri": "https://localhost:8080/",
          "height": 90
        },
        "id": "pm4mebFMBpwV",
        "outputId": "59d0a137-2a3b-43e2-af37-4457ca15faad"
      },
      "source": [
        "# 첫 묶음\n",
        "''.join(grouped[0])"
      ],
      "execution_count": 29,
      "outputs": [
        {
          "output_type": "execute_result",
          "data": {
            "application/vnd.google.colaboratory.intrinsic+json": {
              "type": "string"
            },
            "text/plain": [
              "'In the streets of Verona, another brawl breaks out between the servants of the feuding noble families of Capulet and Montague.Benvolio, a Montague, tries to stop the fighting, but he is himself embroiled when Tybalt, a rash Capulet, arrives on the scene.After citizens outraged by the constant violence beat back the warring factions, Prince Escalus, the ruler of Verona, attempts to prevent any further conflicts between the families by decreeing death for any individual who disturbs the peace in the future.Romeo, the son of Montague, runs into his cousin Benvolio, who had earlier seen Romeo moping in a grove of sycamores.After some prodding by Benvolio, Romeo confides that he is in love with Rosaline, a woman who does not return his affections.'"
            ]
          },
          "metadata": {},
          "execution_count": 29
        }
      ]
    },
    {
      "cell_type": "code",
      "metadata": {
        "id": "VW9-RpzbAiXI"
      },
      "source": [
        "# get_emotion 결과물 저장할 리스트 생성\n",
        "emotions = []\n",
        "\n",
        "for group in grouped:\n",
        "    emotions.append(te.get_emotion(''.join(group)))"
      ],
      "execution_count": 33,
      "outputs": []
    },
    {
      "cell_type": "code",
      "metadata": {
        "id": "7IjDaUK8DAq1"
      },
      "source": [
        "import matplotlib.pyplot as plt\n",
        "\n",
        "# emotions에서 감정 정보 분류\n",
        "happy = []\n",
        "sad = []\n",
        "angry = []\n",
        "surprise = []\n",
        "fear = []\n",
        "\n",
        "for emotion in emotions:\n",
        "    happy.append(emotion['Happy'])\n",
        "    sad.append(emotion['Sad'])\n",
        "    angry.append(emotion['Angry'])\n",
        "    surprise.append(emotion['Surprise'])\n",
        "    fear.append(emotion['Fear'])"
      ],
      "execution_count": 35,
      "outputs": []
    },
    {
      "cell_type": "code",
      "metadata": {
        "id": "MOGlztoMEnwv"
      },
      "source": [
        "import numpy as np"
      ],
      "execution_count": 37,
      "outputs": []
    },
    {
      "cell_type": "code",
      "metadata": {
        "colab": {
          "base_uri": "https://localhost:8080/",
          "height": 265
        },
        "id": "n0SjcPABD301",
        "outputId": "d26cb465-6bb4-4476-dceb-9573e0e7c9d1"
      },
      "source": [
        "# 감정 흐름 plot\n",
        "\n",
        "plt.figure(1)\n",
        "num_sent = np.arange(0, len(emotions), 1)\n",
        "plt.plot(num_sent, happy, label='happy')\n",
        "plt.plot(num_sent, sad, label='sad')\n",
        "plt.plot(num_sent, angry, label='angry')\n",
        "plt.plot(num_sent, surprise, label='surprise')\n",
        "plt.plot(num_sent, fear, label='fear')\n",
        "plt.legend()\n",
        "plt.show()"
      ],
      "execution_count": 40,
      "outputs": [
        {
          "output_type": "display_data",
          "data": {
            "image/png": "[encoded data removed]",
            "text/plain": [
              "<Figure size 432x288 with 1 Axes>"
            ]
          },
          "metadata": {
            "needs_background": "light"
          }
        }
      ]
    },
    {
      "cell_type": "code",
      "metadata": {
        "id": "Rsj6n0Ex52i3"
      },
      "source": [
        "# Bart에 필요한 것들 import\n",
        "from transformers import BartTokenizer, BartForConditionalGeneration, BartConfig\n",
        "\n",
        "model = BartForConditionalGeneration.from_pretrained('facebook/bart-large-cnn')\n",
        "tokenizer = BartTokenizer.from_pretrained('facebook/bart-large-cnn')"
      ],
      "execution_count": 49,
      "outputs": []
    },
    {
      "cell_type": "code",
      "metadata": {
        "id": "Utdcx0qkGsue"
      },
      "source": [
        "# Encoding the inputs and passing them to model.generate()\n",
        "\n",
        "# 요약 결과물 담을 리스트 생성\n",
        "summarized = []\n",
        "\n",
        "for group in grouped:\n",
        "    inputs = tokenizer.batch_encode_plus([''.join(group)],return_tensors='pt')\n",
        "    summary_ids = model.generate(inputs['input_ids'], early_stopping=True)\n",
        "    summarized.append(tokenizer.decode(summary_ids[0], skip_special_tokens=True))"
      ],
      "execution_count": 46,
      "outputs": []
    },
    {
      "cell_type": "code",
      "metadata": {
        "colab": {
          "base_uri": "https://localhost:8080/"
        },
        "id": "sZkoFIKa6FFE",
        "outputId": "b5a63a17-9ce0-4dfc-c408-e5f2245e6a2e"
      },
      "source": [
        "# 문장 띄어쓰기 적용해서 print\n",
        "print(' '.join(summarized))"
      ],
      "execution_count": 48,
      "outputs": [
        {
          "output_type": "stream",
          "name": "stdout",
          "text": [
            "Romeo, the son of Montague, runs into his cousin Benvolio, who had earlier seen Romeo moping in a grove of sycamores. Romeo confides that he is in love with Rosaline, a woman who does not return his affections. Prince Escalus, the ruler of Verona, attempts to prevent any further conflicts between the families. Benvolio counsels him to forget this woman and find another, more beautiful one, but Romeo remains despondent. Meanwhile, Paris, a kinsman of the Prince, seeks Juliet’s hand in marriage. Her father Capulet, though happy at the match, asks Paris to wait two years, since Juliet is not yet even fourteen. Romeo and Benvolio are invited to a feast by the Capulet family. Juliet talks with her mother and nurse about the possibility of marrying Paris. Juliet agrees to look at Paris during the feast to see if she thinks she could fall in love with him. Rosaline, whose name he reads on the list, will be there. A melancholy Romeo follows Benvolio and their witty friend Mercutio to Capulet’s house. Once inside, Romeo sees Juliet from a distance and instantly falls in love with her. As Romeo watches Juliet, Tybalt, recognizes him, and is enraged that a Montague would sneak into a Capulet feast. Romeo and Juliet kiss, not even knowing each other's names. When he finds out from Juliet’s nurse that she is the daughter of Capulet, he becomes distraught. When Juliet learns that the young man she has just kissed is the son of Montague, she grows equally upset. Romeo sees Juliet in a window above the orchard and hears her speak his name. He calls out to her, and they exchange vows of love. Friar Lawrence agrees to marry the young lovers in secret since he sees in their love the possibility of ending the age-old feud between Capulet and Montague. The next day, Benvolio and Mercutio encounter Tybalt—Juliet’s cousin—who has challenged Romeo to a duel. Romeo begs the Capulet to hold off the duel until he understands why Romeo does not want to fight. The two begin to duel. Romeo tries to stop them by leaping between the combatants. Tybalt stabs Mercutio under Romeo’s arm, andMercutio dies. Romeo, in a rage, killsTybalt.Soon after, the Prince declares him forever banished from Verona for his crime. Friar Lawrence arranges for Romeo to spend his wedding night with Juliet before he has to leave for Mantua the following morning. In her room, Juliet awaits the arrival of her new husband. The Nurse enters, and, after some confusion, tells Juliet that Romeo has killed Tybalt. Romeo sneaks into Juliet’s room that night, and at last they consummate their marriage and their love. Juliet learns that her father, affected by the recent events, now intends for her to marry Paris in just three days.Unsure of how to proceed, Juliet asks her nurse for advice. Juliet must drink a potion that will make her appear to be dead the night before her wedding to Paris. After she is laid to rest in the family’s crypt, the Friar and Romeo will secretly retrieve her and she will be free to live with Romeo, away from their parents' feuding. Juliet drinks the potion, and the Nurse discovers her, apparently dead, the next morning. The Capulets grieve, and Juliet is entombed according to plan. Friar Lawrence’s message explaining the plan to Romeo never reaches Mantua. Its bearer, Friar John, gets confined to a quarantined house. Romeo learns only of Juliet's death and decides to kill himself rather than live without her. He buys a vial of poison from a reluctant Apothecary, then speeds back to Verona to take his own life at Juliet's tomb. He enters the tomb, sees Juliet’s inanimate body, drinks the poison, and dies by her side. Juliet sees her beloved Romeo and realizes he has killed himself with poison.Just then, Friar Lawrence enters and realizes that Romeo has killed Paris and himself.At the same time, Juliet awakes.Friar Lawrence hears the coming of the watch and flees alone.\n"
          ]
        }
      ]
    }
  ]
}
