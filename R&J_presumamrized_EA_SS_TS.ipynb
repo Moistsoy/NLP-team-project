{
  "nbformat": 4,
  "nbformat_minor": 0,
  "metadata": {
    "colab": {
      "name": "R&J_presumamrized_EA_SS_TS",
      "provenance": [],
      "collapsed_sections": []
    },
    "kernelspec": {
      "name": "python3",
      "display_name": "Python 3"
    },
    "language_info": {
      "name": "python"
    },
    "accelerator": "GPU",
    "widgets": {
      "application/vnd.jupyter.widget-state+json": {
        "a060c26f89914717befa29b0093341d9": {
          "model_module": "@jupyter-widgets/controls",
          "model_name": "HBoxModel",
          "model_module_version": "1.5.0",
          "state": {
            "_view_name": "HBoxView",
            "_dom_classes": [],
            "_model_name": "HBoxModel",
            "_view_module": "@jupyter-widgets/controls",
            "_model_module_version": "1.5.0",
            "_view_count": null,
            "_view_module_version": "1.5.0",
            "box_style": "",
            "layout": "IPY_MODEL_fec48ee8893e4aefa0946c2981f7b35a",
            "_model_module": "@jupyter-widgets/controls",
            "children": [
              "IPY_MODEL_250e50c2698e42eeb222e21074ed26ef",
              "IPY_MODEL_c24afa24679d42aab957ed7afb2d6249",
              "IPY_MODEL_733ad8d773e44c25b7a3a38f2ecb4941"
            ]
          }
        },
        "fec48ee8893e4aefa0946c2981f7b35a": {
          "model_module": "@jupyter-widgets/base",
          "model_name": "LayoutModel",
          "model_module_version": "1.2.0",
          "state": {
            "_view_name": "LayoutView",
            "grid_template_rows": null,
            "right": null,
            "justify_content": null,
            "_view_module": "@jupyter-widgets/base",
            "overflow": null,
            "_model_module_version": "1.2.0",
            "_view_count": null,
            "flex_flow": null,
            "width": null,
            "min_width": null,
            "border": null,
            "align_items": null,
            "bottom": null,
            "_model_module": "@jupyter-widgets/base",
            "top": null,
            "grid_column": null,
            "overflow_y": null,
            "overflow_x": null,
            "grid_auto_flow": null,
            "grid_area": null,
            "grid_template_columns": null,
            "flex": null,
            "_model_name": "LayoutModel",
            "justify_items": null,
            "grid_row": null,
            "max_height": null,
            "align_content": null,
            "visibility": null,
            "align_self": null,
            "height": null,
            "min_height": null,
            "padding": null,
            "grid_auto_rows": null,
            "grid_gap": null,
            "max_width": null,
            "order": null,
            "_view_module_version": "1.2.0",
            "grid_template_areas": null,
            "object_position": null,
            "object_fit": null,
            "grid_auto_columns": null,
            "margin": null,
            "display": null,
            "left": null
          }
        },
        "250e50c2698e42eeb222e21074ed26ef": {
          "model_module": "@jupyter-widgets/controls",
          "model_name": "HTMLModel",
          "model_module_version": "1.5.0",
          "state": {
            "_view_name": "HTMLView",
            "style": "IPY_MODEL_7fe62b13538d4c3cb549d7309a3c23cb",
            "_dom_classes": [],
            "description": "",
            "_model_name": "HTMLModel",
            "placeholder": "​",
            "_view_module": "@jupyter-widgets/controls",
            "_model_module_version": "1.5.0",
            "value": "Downloading: 100%",
            "_view_count": null,
            "_view_module_version": "1.5.0",
            "description_tooltip": null,
            "_model_module": "@jupyter-widgets/controls",
            "layout": "IPY_MODEL_51e2058b0313433c8743dc5f0204add5"
          }
        },
        "c24afa24679d42aab957ed7afb2d6249": {
          "model_module": "@jupyter-widgets/controls",
          "model_name": "FloatProgressModel",
          "model_module_version": "1.5.0",
          "state": {
            "_view_name": "ProgressView",
            "style": "IPY_MODEL_7c1199e04eb941549ba4a1c87a53c05a",
            "_dom_classes": [],
            "description": "",
            "_model_name": "FloatProgressModel",
            "bar_style": "success",
            "max": 1585,
            "_view_module": "@jupyter-widgets/controls",
            "_model_module_version": "1.5.0",
            "value": 1585,
            "_view_count": null,
            "_view_module_version": "1.5.0",
            "orientation": "horizontal",
            "min": 0,
            "description_tooltip": null,
            "_model_module": "@jupyter-widgets/controls",
            "layout": "IPY_MODEL_0697206b8f4a4cefb217f0d43924cf3d"
          }
        },
        "733ad8d773e44c25b7a3a38f2ecb4941": {
          "model_module": "@jupyter-widgets/controls",
          "model_name": "HTMLModel",
          "model_module_version": "1.5.0",
          "state": {
            "_view_name": "HTMLView",
            "style": "IPY_MODEL_12ddec21ac4b414ba86bbbfabe756f4b",
            "_dom_classes": [],
            "description": "",
            "_model_name": "HTMLModel",
            "placeholder": "​",
            "_view_module": "@jupyter-widgets/controls",
            "_model_module_version": "1.5.0",
            "value": " 1.55k/1.55k [00:00&lt;00:00, 31.5kB/s]",
            "_view_count": null,
            "_view_module_version": "1.5.0",
            "description_tooltip": null,
            "_model_module": "@jupyter-widgets/controls",
            "layout": "IPY_MODEL_0e3200408da943ddabe863022dbc3abd"
          }
        },
        "7fe62b13538d4c3cb549d7309a3c23cb": {
          "model_module": "@jupyter-widgets/controls",
          "model_name": "DescriptionStyleModel",
          "model_module_version": "1.5.0",
          "state": {
            "_view_name": "StyleView",
            "_model_name": "DescriptionStyleModel",
            "description_width": "",
            "_view_module": "@jupyter-widgets/base",
            "_model_module_version": "1.5.0",
            "_view_count": null,
            "_view_module_version": "1.2.0",
            "_model_module": "@jupyter-widgets/controls"
          }
        },
        "51e2058b0313433c8743dc5f0204add5": {
          "model_module": "@jupyter-widgets/base",
          "model_name": "LayoutModel",
          "model_module_version": "1.2.0",
          "state": {
            "_view_name": "LayoutView",
            "grid_template_rows": null,
            "right": null,
            "justify_content": null,
            "_view_module": "@jupyter-widgets/base",
            "overflow": null,
            "_model_module_version": "1.2.0",
            "_view_count": null,
            "flex_flow": null,
            "width": null,
            "min_width": null,
            "border": null,
            "align_items": null,
            "bottom": null,
            "_model_module": "@jupyter-widgets/base",
            "top": null,
            "grid_column": null,
            "overflow_y": null,
            "overflow_x": null,
            "grid_auto_flow": null,
            "grid_area": null,
            "grid_template_columns": null,
            "flex": null,
            "_model_name": "LayoutModel",
            "justify_items": null,
            "grid_row": null,
            "max_height": null,
            "align_content": null,
            "visibility": null,
            "align_self": null,
            "height": null,
            "min_height": null,
            "padding": null,
            "grid_auto_rows": null,
            "grid_gap": null,
            "max_width": null,
            "order": null,
            "_view_module_version": "1.2.0",
            "grid_template_areas": null,
            "object_position": null,
            "object_fit": null,
            "grid_auto_columns": null,
            "margin": null,
            "display": null,
            "left": null
          }
        },
        "7c1199e04eb941549ba4a1c87a53c05a": {
          "model_module": "@jupyter-widgets/controls",
          "model_name": "ProgressStyleModel",
          "model_module_version": "1.5.0",
          "state": {
            "_view_name": "StyleView",
            "_model_name": "ProgressStyleModel",
            "description_width": "",
            "_view_module": "@jupyter-widgets/base",
            "_model_module_version": "1.5.0",
            "_view_count": null,
            "_view_module_version": "1.2.0",
            "bar_color": null,
            "_model_module": "@jupyter-widgets/controls"
          }
        },
        "0697206b8f4a4cefb217f0d43924cf3d": {
          "model_module": "@jupyter-widgets/base",
          "model_name": "LayoutModel",
          "model_module_version": "1.2.0",
          "state": {
            "_view_name": "LayoutView",
            "grid_template_rows": null,
            "right": null,
            "justify_content": null,
            "_view_module": "@jupyter-widgets/base",
            "overflow": null,
            "_model_module_version": "1.2.0",
            "_view_count": null,
            "flex_flow": null,
            "width": null,
            "min_width": null,
            "border": null,
            "align_items": null,
            "bottom": null,
            "_model_module": "@jupyter-widgets/base",
            "top": null,
            "grid_column": null,
            "overflow_y": null,
            "overflow_x": null,
            "grid_auto_flow": null,
            "grid_area": null,
            "grid_template_columns": null,
            "flex": null,
            "_model_name": "LayoutModel",
            "justify_items": null,
            "grid_row": null,
            "max_height": null,
            "align_content": null,
            "visibility": null,
            "align_self": null,
            "height": null,
            "min_height": null,
            "padding": null,
            "grid_auto_rows": null,
            "grid_gap": null,
            "max_width": null,
            "order": null,
            "_view_module_version": "1.2.0",
            "grid_template_areas": null,
            "object_position": null,
            "object_fit": null,
            "grid_auto_columns": null,
            "margin": null,
            "display": null,
            "left": null
          }
        },
        "12ddec21ac4b414ba86bbbfabe756f4b": {
          "model_module": "@jupyter-widgets/controls",
          "model_name": "DescriptionStyleModel",
          "model_module_version": "1.5.0",
          "state": {
            "_view_name": "StyleView",
            "_model_name": "DescriptionStyleModel",
            "description_width": "",
            "_view_module": "@jupyter-widgets/base",
            "_model_module_version": "1.5.0",
            "_view_count": null,
            "_view_module_version": "1.2.0",
            "_model_module": "@jupyter-widgets/controls"
          }
        },
        "0e3200408da943ddabe863022dbc3abd": {
          "model_module": "@jupyter-widgets/base",
          "model_name": "LayoutModel",
          "model_module_version": "1.2.0",
          "state": {
            "_view_name": "LayoutView",
            "grid_template_rows": null,
            "right": null,
            "justify_content": null,
            "_view_module": "@jupyter-widgets/base",
            "overflow": null,
            "_model_module_version": "1.2.0",
            "_view_count": null,
            "flex_flow": null,
            "width": null,
            "min_width": null,
            "border": null,
            "align_items": null,
            "bottom": null,
            "_model_module": "@jupyter-widgets/base",
            "top": null,
            "grid_column": null,
            "overflow_y": null,
            "overflow_x": null,
            "grid_auto_flow": null,
            "grid_area": null,
            "grid_template_columns": null,
            "flex": null,
            "_model_name": "LayoutModel",
            "justify_items": null,
            "grid_row": null,
            "max_height": null,
            "align_content": null,
            "visibility": null,
            "align_self": null,
            "height": null,
            "min_height": null,
            "padding": null,
            "grid_auto_rows": null,
            "grid_gap": null,
            "max_width": null,
            "order": null,
            "_view_module_version": "1.2.0",
            "grid_template_areas": null,
            "object_position": null,
            "object_fit": null,
            "grid_auto_columns": null,
            "margin": null,
            "display": null,
            "left": null
          }
        },
        "80d34718f3ad4da385b68262ea3d9968": {
          "model_module": "@jupyter-widgets/controls",
          "model_name": "HBoxModel",
          "model_module_version": "1.5.0",
          "state": {
            "_view_name": "HBoxView",
            "_dom_classes": [],
            "_model_name": "HBoxModel",
            "_view_module": "@jupyter-widgets/controls",
            "_model_module_version": "1.5.0",
            "_view_count": null,
            "_view_module_version": "1.5.0",
            "box_style": "",
            "layout": "IPY_MODEL_ad825db263364f599a0423911fdb830a",
            "_model_module": "@jupyter-widgets/controls",
            "children": [
              "IPY_MODEL_48a3788f52674ad0a28b20b753296408",
              "IPY_MODEL_57fe24b54de24dfd8dd0297db62bd4bc",
              "IPY_MODEL_105ae5ef8be44c3580ee62ae8e1f4f51"
            ]
          }
        },
        "ad825db263364f599a0423911fdb830a": {
          "model_module": "@jupyter-widgets/base",
          "model_name": "LayoutModel",
          "model_module_version": "1.2.0",
          "state": {
            "_view_name": "LayoutView",
            "grid_template_rows": null,
            "right": null,
            "justify_content": null,
            "_view_module": "@jupyter-widgets/base",
            "overflow": null,
            "_model_module_version": "1.2.0",
            "_view_count": null,
            "flex_flow": null,
            "width": null,
            "min_width": null,
            "border": null,
            "align_items": null,
            "bottom": null,
            "_model_module": "@jupyter-widgets/base",
            "top": null,
            "grid_column": null,
            "overflow_y": null,
            "overflow_x": null,
            "grid_auto_flow": null,
            "grid_area": null,
            "grid_template_columns": null,
            "flex": null,
            "_model_name": "LayoutModel",
            "justify_items": null,
            "grid_row": null,
            "max_height": null,
            "align_content": null,
            "visibility": null,
            "align_self": null,
            "height": null,
            "min_height": null,
            "padding": null,
            "grid_auto_rows": null,
            "grid_gap": null,
            "max_width": null,
            "order": null,
            "_view_module_version": "1.2.0",
            "grid_template_areas": null,
            "object_position": null,
            "object_fit": null,
            "grid_auto_columns": null,
            "margin": null,
            "display": null,
            "left": null
          }
        },
        "48a3788f52674ad0a28b20b753296408": {
          "model_module": "@jupyter-widgets/controls",
          "model_name": "HTMLModel",
          "model_module_version": "1.5.0",
          "state": {
            "_view_name": "HTMLView",
            "style": "IPY_MODEL_9c323619d2494c41831f221bbbf92e59",
            "_dom_classes": [],
            "description": "",
            "_model_name": "HTMLModel",
            "placeholder": "​",
            "_view_module": "@jupyter-widgets/controls",
            "_model_module_version": "1.5.0",
            "value": "Downloading: 100%",
            "_view_count": null,
            "_view_module_version": "1.5.0",
            "description_tooltip": null,
            "_model_module": "@jupyter-widgets/controls",
            "layout": "IPY_MODEL_84e3ac00f3b242d5b27a45c00877d4e7"
          }
        },
        "57fe24b54de24dfd8dd0297db62bd4bc": {
          "model_module": "@jupyter-widgets/controls",
          "model_name": "FloatProgressModel",
          "model_module_version": "1.5.0",
          "state": {
            "_view_name": "ProgressView",
            "style": "IPY_MODEL_b22366f010d84d1ca68cbb41459836db",
            "_dom_classes": [],
            "description": "",
            "_model_name": "FloatProgressModel",
            "bar_style": "success",
            "max": 1625270765,
            "_view_module": "@jupyter-widgets/controls",
            "_model_module_version": "1.5.0",
            "value": 1625270765,
            "_view_count": null,
            "_view_module_version": "1.5.0",
            "orientation": "horizontal",
            "min": 0,
            "description_tooltip": null,
            "_model_module": "@jupyter-widgets/controls",
            "layout": "IPY_MODEL_6a6e90cdc32b48d59b9a7ac96d3e3a13"
          }
        },
        "105ae5ef8be44c3580ee62ae8e1f4f51": {
          "model_module": "@jupyter-widgets/controls",
          "model_name": "HTMLModel",
          "model_module_version": "1.5.0",
          "state": {
            "_view_name": "HTMLView",
            "style": "IPY_MODEL_571d667b899c4d839f2636589dbdcf79",
            "_dom_classes": [],
            "description": "",
            "_model_name": "HTMLModel",
            "placeholder": "​",
            "_view_module": "@jupyter-widgets/controls",
            "_model_module_version": "1.5.0",
            "value": " 1.51G/1.51G [00:49&lt;00:00, 33.4MB/s]",
            "_view_count": null,
            "_view_module_version": "1.5.0",
            "description_tooltip": null,
            "_model_module": "@jupyter-widgets/controls",
            "layout": "IPY_MODEL_666f7e82bbf040609ae29899df7e14b4"
          }
        },
        "9c323619d2494c41831f221bbbf92e59": {
          "model_module": "@jupyter-widgets/controls",
          "model_name": "DescriptionStyleModel",
          "model_module_version": "1.5.0",
          "state": {
            "_view_name": "StyleView",
            "_model_name": "DescriptionStyleModel",
            "description_width": "",
            "_view_module": "@jupyter-widgets/base",
            "_model_module_version": "1.5.0",
            "_view_count": null,
            "_view_module_version": "1.2.0",
            "_model_module": "@jupyter-widgets/controls"
          }
        },
        "84e3ac00f3b242d5b27a45c00877d4e7": {
          "model_module": "@jupyter-widgets/base",
          "model_name": "LayoutModel",
          "model_module_version": "1.2.0",
          "state": {
            "_view_name": "LayoutView",
            "grid_template_rows": null,
            "right": null,
            "justify_content": null,
            "_view_module": "@jupyter-widgets/base",
            "overflow": null,
            "_model_module_version": "1.2.0",
            "_view_count": null,
            "flex_flow": null,
            "width": null,
            "min_width": null,
            "border": null,
            "align_items": null,
            "bottom": null,
            "_model_module": "@jupyter-widgets/base",
            "top": null,
            "grid_column": null,
            "overflow_y": null,
            "overflow_x": null,
            "grid_auto_flow": null,
            "grid_area": null,
            "grid_template_columns": null,
            "flex": null,
            "_model_name": "LayoutModel",
            "justify_items": null,
            "grid_row": null,
            "max_height": null,
            "align_content": null,
            "visibility": null,
            "align_self": null,
            "height": null,
            "min_height": null,
            "padding": null,
            "grid_auto_rows": null,
            "grid_gap": null,
            "max_width": null,
            "order": null,
            "_view_module_version": "1.2.0",
            "grid_template_areas": null,
            "object_position": null,
            "object_fit": null,
            "grid_auto_columns": null,
            "margin": null,
            "display": null,
            "left": null
          }
        },
        "b22366f010d84d1ca68cbb41459836db": {
          "model_module": "@jupyter-widgets/controls",
          "model_name": "ProgressStyleModel",
          "model_module_version": "1.5.0",
          "state": {
            "_view_name": "StyleView",
            "_model_name": "ProgressStyleModel",
            "description_width": "",
            "_view_module": "@jupyter-widgets/base",
            "_model_module_version": "1.5.0",
            "_view_count": null,
            "_view_module_version": "1.2.0",
            "bar_color": null,
            "_model_module": "@jupyter-widgets/controls"
          }
        },
        "6a6e90cdc32b48d59b9a7ac96d3e3a13": {
          "model_module": "@jupyter-widgets/base",
          "model_name": "LayoutModel",
          "model_module_version": "1.2.0",
          "state": {
            "_view_name": "LayoutView",
            "grid_template_rows": null,
            "right": null,
            "justify_content": null,
            "_view_module": "@jupyter-widgets/base",
            "overflow": null,
            "_model_module_version": "1.2.0",
            "_view_count": null,
            "flex_flow": null,
            "width": null,
            "min_width": null,
            "border": null,
            "align_items": null,
            "bottom": null,
            "_model_module": "@jupyter-widgets/base",
            "top": null,
            "grid_column": null,
            "overflow_y": null,
            "overflow_x": null,
            "grid_auto_flow": null,
            "grid_area": null,
            "grid_template_columns": null,
            "flex": null,
            "_model_name": "LayoutModel",
            "justify_items": null,
            "grid_row": null,
            "max_height": null,
            "align_content": null,
            "visibility": null,
            "align_self": null,
            "height": null,
            "min_height": null,
            "padding": null,
            "grid_auto_rows": null,
            "grid_gap": null,
            "max_width": null,
            "order": null,
            "_view_module_version": "1.2.0",
            "grid_template_areas": null,
            "object_position": null,
            "object_fit": null,
            "grid_auto_columns": null,
            "margin": null,
            "display": null,
            "left": null
          }
        },
        "571d667b899c4d839f2636589dbdcf79": {
          "model_module": "@jupyter-widgets/controls",
          "model_name": "DescriptionStyleModel",
          "model_module_version": "1.5.0",
          "state": {
            "_view_name": "StyleView",
            "_model_name": "DescriptionStyleModel",
            "description_width": "",
            "_view_module": "@jupyter-widgets/base",
            "_model_module_version": "1.5.0",
            "_view_count": null,
            "_view_module_version": "1.2.0",
            "_model_module": "@jupyter-widgets/controls"
          }
        },
        "666f7e82bbf040609ae29899df7e14b4": {
          "model_module": "@jupyter-widgets/base",
          "model_name": "LayoutModel",
          "model_module_version": "1.2.0",
          "state": {
            "_view_name": "LayoutView",
            "grid_template_rows": null,
            "right": null,
            "justify_content": null,
            "_view_module": "@jupyter-widgets/base",
            "overflow": null,
            "_model_module_version": "1.2.0",
            "_view_count": null,
            "flex_flow": null,
            "width": null,
            "min_width": null,
            "border": null,
            "align_items": null,
            "bottom": null,
            "_model_module": "@jupyter-widgets/base",
            "top": null,
            "grid_column": null,
            "overflow_y": null,
            "overflow_x": null,
            "grid_auto_flow": null,
            "grid_area": null,
            "grid_template_columns": null,
            "flex": null,
            "_model_name": "LayoutModel",
            "justify_items": null,
            "grid_row": null,
            "max_height": null,
            "align_content": null,
            "visibility": null,
            "align_self": null,
            "height": null,
            "min_height": null,
            "padding": null,
            "grid_auto_rows": null,
            "grid_gap": null,
            "max_width": null,
            "order": null,
            "_view_module_version": "1.2.0",
            "grid_template_areas": null,
            "object_position": null,
            "object_fit": null,
            "grid_auto_columns": null,
            "margin": null,
            "display": null,
            "left": null
          }
        },
        "98afe3f36c9a4b8da77ea417d8d002f1": {
          "model_module": "@jupyter-widgets/controls",
          "model_name": "HBoxModel",
          "model_module_version": "1.5.0",
          "state": {
            "_view_name": "HBoxView",
            "_dom_classes": [],
            "_model_name": "HBoxModel",
            "_view_module": "@jupyter-widgets/controls",
            "_model_module_version": "1.5.0",
            "_view_count": null,
            "_view_module_version": "1.5.0",
            "box_style": "",
            "layout": "IPY_MODEL_d73f5358f002406cb1a1eea7dd7cf135",
            "_model_module": "@jupyter-widgets/controls",
            "children": [
              "IPY_MODEL_744f472bee4c4ebd9599a6c7f65b33f7",
              "IPY_MODEL_d2463d38ee26445892529aef6a0a10b6",
              "IPY_MODEL_f9f521da251d4710bf984918d9bb31d0"
            ]
          }
        },
        "d73f5358f002406cb1a1eea7dd7cf135": {
          "model_module": "@jupyter-widgets/base",
          "model_name": "LayoutModel",
          "model_module_version": "1.2.0",
          "state": {
            "_view_name": "LayoutView",
            "grid_template_rows": null,
            "right": null,
            "justify_content": null,
            "_view_module": "@jupyter-widgets/base",
            "overflow": null,
            "_model_module_version": "1.2.0",
            "_view_count": null,
            "flex_flow": null,
            "width": null,
            "min_width": null,
            "border": null,
            "align_items": null,
            "bottom": null,
            "_model_module": "@jupyter-widgets/base",
            "top": null,
            "grid_column": null,
            "overflow_y": null,
            "overflow_x": null,
            "grid_auto_flow": null,
            "grid_area": null,
            "grid_template_columns": null,
            "flex": null,
            "_model_name": "LayoutModel",
            "justify_items": null,
            "grid_row": null,
            "max_height": null,
            "align_content": null,
            "visibility": null,
            "align_self": null,
            "height": null,
            "min_height": null,
            "padding": null,
            "grid_auto_rows": null,
            "grid_gap": null,
            "max_width": null,
            "order": null,
            "_view_module_version": "1.2.0",
            "grid_template_areas": null,
            "object_position": null,
            "object_fit": null,
            "grid_auto_columns": null,
            "margin": null,
            "display": null,
            "left": null
          }
        },
        "744f472bee4c4ebd9599a6c7f65b33f7": {
          "model_module": "@jupyter-widgets/controls",
          "model_name": "HTMLModel",
          "model_module_version": "1.5.0",
          "state": {
            "_view_name": "HTMLView",
            "style": "IPY_MODEL_8909dc5d923b4025a15406017f1d82e5",
            "_dom_classes": [],
            "description": "",
            "_model_name": "HTMLModel",
            "placeholder": "​",
            "_view_module": "@jupyter-widgets/controls",
            "_model_module_version": "1.5.0",
            "value": "Downloading: 100%",
            "_view_count": null,
            "_view_module_version": "1.5.0",
            "description_tooltip": null,
            "_model_module": "@jupyter-widgets/controls",
            "layout": "IPY_MODEL_9e5df75cab6745689e7d07686e626cd3"
          }
        },
        "d2463d38ee26445892529aef6a0a10b6": {
          "model_module": "@jupyter-widgets/controls",
          "model_name": "FloatProgressModel",
          "model_module_version": "1.5.0",
          "state": {
            "_view_name": "ProgressView",
            "style": "IPY_MODEL_bbd842fde239422786171126dbb31b20",
            "_dom_classes": [],
            "description": "",
            "_model_name": "FloatProgressModel",
            "bar_style": "success",
            "max": 898823,
            "_view_module": "@jupyter-widgets/controls",
            "_model_module_version": "1.5.0",
            "value": 898823,
            "_view_count": null,
            "_view_module_version": "1.5.0",
            "orientation": "horizontal",
            "min": 0,
            "description_tooltip": null,
            "_model_module": "@jupyter-widgets/controls",
            "layout": "IPY_MODEL_5a977289c8734b748c1a4aeb8b9c7666"
          }
        },
        "f9f521da251d4710bf984918d9bb31d0": {
          "model_module": "@jupyter-widgets/controls",
          "model_name": "HTMLModel",
          "model_module_version": "1.5.0",
          "state": {
            "_view_name": "HTMLView",
            "style": "IPY_MODEL_11a494b6cd69470a98d42dbc1c9f6f6a",
            "_dom_classes": [],
            "description": "",
            "_model_name": "HTMLModel",
            "placeholder": "​",
            "_view_module": "@jupyter-widgets/controls",
            "_model_module_version": "1.5.0",
            "value": " 878k/878k [00:00&lt;00:00, 1.33MB/s]",
            "_view_count": null,
            "_view_module_version": "1.5.0",
            "description_tooltip": null,
            "_model_module": "@jupyter-widgets/controls",
            "layout": "IPY_MODEL_2562f4b649b5473ba6a2be60f5c36f02"
          }
        },
        "8909dc5d923b4025a15406017f1d82e5": {
          "model_module": "@jupyter-widgets/controls",
          "model_name": "DescriptionStyleModel",
          "model_module_version": "1.5.0",
          "state": {
            "_view_name": "StyleView",
            "_model_name": "DescriptionStyleModel",
            "description_width": "",
            "_view_module": "@jupyter-widgets/base",
            "_model_module_version": "1.5.0",
            "_view_count": null,
            "_view_module_version": "1.2.0",
            "_model_module": "@jupyter-widgets/controls"
          }
        },
        "9e5df75cab6745689e7d07686e626cd3": {
          "model_module": "@jupyter-widgets/base",
          "model_name": "LayoutModel",
          "model_module_version": "1.2.0",
          "state": {
            "_view_name": "LayoutView",
            "grid_template_rows": null,
            "right": null,
            "justify_content": null,
            "_view_module": "@jupyter-widgets/base",
            "overflow": null,
            "_model_module_version": "1.2.0",
            "_view_count": null,
            "flex_flow": null,
            "width": null,
            "min_width": null,
            "border": null,
            "align_items": null,
            "bottom": null,
            "_model_module": "@jupyter-widgets/base",
            "top": null,
            "grid_column": null,
            "overflow_y": null,
            "overflow_x": null,
            "grid_auto_flow": null,
            "grid_area": null,
            "grid_template_columns": null,
            "flex": null,
            "_model_name": "LayoutModel",
            "justify_items": null,
            "grid_row": null,
            "max_height": null,
            "align_content": null,
            "visibility": null,
            "align_self": null,
            "height": null,
            "min_height": null,
            "padding": null,
            "grid_auto_rows": null,
            "grid_gap": null,
            "max_width": null,
            "order": null,
            "_view_module_version": "1.2.0",
            "grid_template_areas": null,
            "object_position": null,
            "object_fit": null,
            "grid_auto_columns": null,
            "margin": null,
            "display": null,
            "left": null
          }
        },
        "bbd842fde239422786171126dbb31b20": {
          "model_module": "@jupyter-widgets/controls",
          "model_name": "ProgressStyleModel",
          "model_module_version": "1.5.0",
          "state": {
            "_view_name": "StyleView",
            "_model_name": "ProgressStyleModel",
            "description_width": "",
            "_view_module": "@jupyter-widgets/base",
            "_model_module_version": "1.5.0",
            "_view_count": null,
            "_view_module_version": "1.2.0",
            "bar_color": null,
            "_model_module": "@jupyter-widgets/controls"
          }
        },
        "5a977289c8734b748c1a4aeb8b9c7666": {
          "model_module": "@jupyter-widgets/base",
          "model_name": "LayoutModel",
          "model_module_version": "1.2.0",
          "state": {
            "_view_name": "LayoutView",
            "grid_template_rows": null,
            "right": null,
            "justify_content": null,
            "_view_module": "@jupyter-widgets/base",
            "overflow": null,
            "_model_module_version": "1.2.0",
            "_view_count": null,
            "flex_flow": null,
            "width": null,
            "min_width": null,
            "border": null,
            "align_items": null,
            "bottom": null,
            "_model_module": "@jupyter-widgets/base",
            "top": null,
            "grid_column": null,
            "overflow_y": null,
            "overflow_x": null,
            "grid_auto_flow": null,
            "grid_area": null,
            "grid_template_columns": null,
            "flex": null,
            "_model_name": "LayoutModel",
            "justify_items": null,
            "grid_row": null,
            "max_height": null,
            "align_content": null,
            "visibility": null,
            "align_self": null,
            "height": null,
            "min_height": null,
            "padding": null,
            "grid_auto_rows": null,
            "grid_gap": null,
            "max_width": null,
            "order": null,
            "_view_module_version": "1.2.0",
            "grid_template_areas": null,
            "object_position": null,
            "object_fit": null,
            "grid_auto_columns": null,
            "margin": null,
            "display": null,
            "left": null
          }
        },
        "11a494b6cd69470a98d42dbc1c9f6f6a": {
          "model_module": "@jupyter-widgets/controls",
          "model_name": "DescriptionStyleModel",
          "model_module_version": "1.5.0",
          "state": {
            "_view_name": "StyleView",
            "_model_name": "DescriptionStyleModel",
            "description_width": "",
            "_view_module": "@jupyter-widgets/base",
            "_model_module_version": "1.5.0",
            "_view_count": null,
            "_view_module_version": "1.2.0",
            "_model_module": "@jupyter-widgets/controls"
          }
        },
        "2562f4b649b5473ba6a2be60f5c36f02": {
          "model_module": "@jupyter-widgets/base",
          "model_name": "LayoutModel",
          "model_module_version": "1.2.0",
          "state": {
            "_view_name": "LayoutView",
            "grid_template_rows": null,
            "right": null,
            "justify_content": null,
            "_view_module": "@jupyter-widgets/base",
            "overflow": null,
            "_model_module_version": "1.2.0",
            "_view_count": null,
            "flex_flow": null,
            "width": null,
            "min_width": null,
            "border": null,
            "align_items": null,
            "bottom": null,
            "_model_module": "@jupyter-widgets/base",
            "top": null,
            "grid_column": null,
            "overflow_y": null,
            "overflow_x": null,
            "grid_auto_flow": null,
            "grid_area": null,
            "grid_template_columns": null,
            "flex": null,
            "_model_name": "LayoutModel",
            "justify_items": null,
            "grid_row": null,
            "max_height": null,
            "align_content": null,
            "visibility": null,
            "align_self": null,
            "height": null,
            "min_height": null,
            "padding": null,
            "grid_auto_rows": null,
            "grid_gap": null,
            "max_width": null,
            "order": null,
            "_view_module_version": "1.2.0",
            "grid_template_areas": null,
            "object_position": null,
            "object_fit": null,
            "grid_auto_columns": null,
            "margin": null,
            "display": null,
            "left": null
          }
        },
        "f22ea7649198410da74d05e5dfb98114": {
          "model_module": "@jupyter-widgets/controls",
          "model_name": "HBoxModel",
          "model_module_version": "1.5.0",
          "state": {
            "_view_name": "HBoxView",
            "_dom_classes": [],
            "_model_name": "HBoxModel",
            "_view_module": "@jupyter-widgets/controls",
            "_model_module_version": "1.5.0",
            "_view_count": null,
            "_view_module_version": "1.5.0",
            "box_style": "",
            "layout": "IPY_MODEL_8d1a85723d974ef0bcdd30280d0fea49",
            "_model_module": "@jupyter-widgets/controls",
            "children": [
              "IPY_MODEL_e6e8718b20ea46e79d44d318ad04a7a8",
              "IPY_MODEL_930c1ef6f21841a1ba5298b3b23ff681",
              "IPY_MODEL_64e96bed2d4048fc92de409f2b6cbd30"
            ]
          }
        },
        "8d1a85723d974ef0bcdd30280d0fea49": {
          "model_module": "@jupyter-widgets/base",
          "model_name": "LayoutModel",
          "model_module_version": "1.2.0",
          "state": {
            "_view_name": "LayoutView",
            "grid_template_rows": null,
            "right": null,
            "justify_content": null,
            "_view_module": "@jupyter-widgets/base",
            "overflow": null,
            "_model_module_version": "1.2.0",
            "_view_count": null,
            "flex_flow": null,
            "width": null,
            "min_width": null,
            "border": null,
            "align_items": null,
            "bottom": null,
            "_model_module": "@jupyter-widgets/base",
            "top": null,
            "grid_column": null,
            "overflow_y": null,
            "overflow_x": null,
            "grid_auto_flow": null,
            "grid_area": null,
            "grid_template_columns": null,
            "flex": null,
            "_model_name": "LayoutModel",
            "justify_items": null,
            "grid_row": null,
            "max_height": null,
            "align_content": null,
            "visibility": null,
            "align_self": null,
            "height": null,
            "min_height": null,
            "padding": null,
            "grid_auto_rows": null,
            "grid_gap": null,
            "max_width": null,
            "order": null,
            "_view_module_version": "1.2.0",
            "grid_template_areas": null,
            "object_position": null,
            "object_fit": null,
            "grid_auto_columns": null,
            "margin": null,
            "display": null,
            "left": null
          }
        },
        "e6e8718b20ea46e79d44d318ad04a7a8": {
          "model_module": "@jupyter-widgets/controls",
          "model_name": "HTMLModel",
          "model_module_version": "1.5.0",
          "state": {
            "_view_name": "HTMLView",
            "style": "IPY_MODEL_1990793eced44a71a6bc3fab83a37505",
            "_dom_classes": [],
            "description": "",
            "_model_name": "HTMLModel",
            "placeholder": "​",
            "_view_module": "@jupyter-widgets/controls",
            "_model_module_version": "1.5.0",
            "value": "Downloading: 100%",
            "_view_count": null,
            "_view_module_version": "1.5.0",
            "description_tooltip": null,
            "_model_module": "@jupyter-widgets/controls",
            "layout": "IPY_MODEL_951493e3d34444338edb19de22580fb5"
          }
        },
        "930c1ef6f21841a1ba5298b3b23ff681": {
          "model_module": "@jupyter-widgets/controls",
          "model_name": "FloatProgressModel",
          "model_module_version": "1.5.0",
          "state": {
            "_view_name": "ProgressView",
            "style": "IPY_MODEL_15ea8167b7bc42289d9b80ddac6a21e5",
            "_dom_classes": [],
            "description": "",
            "_model_name": "FloatProgressModel",
            "bar_style": "success",
            "max": 456318,
            "_view_module": "@jupyter-widgets/controls",
            "_model_module_version": "1.5.0",
            "value": 456318,
            "_view_count": null,
            "_view_module_version": "1.5.0",
            "orientation": "horizontal",
            "min": 0,
            "description_tooltip": null,
            "_model_module": "@jupyter-widgets/controls",
            "layout": "IPY_MODEL_9150aa1cb02e4481b028474aaa767c46"
          }
        },
        "64e96bed2d4048fc92de409f2b6cbd30": {
          "model_module": "@jupyter-widgets/controls",
          "model_name": "HTMLModel",
          "model_module_version": "1.5.0",
          "state": {
            "_view_name": "HTMLView",
            "style": "IPY_MODEL_c73ddd38c37c461dbfd1b338da72a10a",
            "_dom_classes": [],
            "description": "",
            "_model_name": "HTMLModel",
            "placeholder": "​",
            "_view_module": "@jupyter-widgets/controls",
            "_model_module_version": "1.5.0",
            "value": " 446k/446k [00:00&lt;00:00, 536kB/s]",
            "_view_count": null,
            "_view_module_version": "1.5.0",
            "description_tooltip": null,
            "_model_module": "@jupyter-widgets/controls",
            "layout": "IPY_MODEL_b4985f8b20a848cea3ed015a7b9a432c"
          }
        },
        "1990793eced44a71a6bc3fab83a37505": {
          "model_module": "@jupyter-widgets/controls",
          "model_name": "DescriptionStyleModel",
          "model_module_version": "1.5.0",
          "state": {
            "_view_name": "StyleView",
            "_model_name": "DescriptionStyleModel",
            "description_width": "",
            "_view_module": "@jupyter-widgets/base",
            "_model_module_version": "1.5.0",
            "_view_count": null,
            "_view_module_version": "1.2.0",
            "_model_module": "@jupyter-widgets/controls"
          }
        },
        "951493e3d34444338edb19de22580fb5": {
          "model_module": "@jupyter-widgets/base",
          "model_name": "LayoutModel",
          "model_module_version": "1.2.0",
          "state": {
            "_view_name": "LayoutView",
            "grid_template_rows": null,
            "right": null,
            "justify_content": null,
            "_view_module": "@jupyter-widgets/base",
            "overflow": null,
            "_model_module_version": "1.2.0",
            "_view_count": null,
            "flex_flow": null,
            "width": null,
            "min_width": null,
            "border": null,
            "align_items": null,
            "bottom": null,
            "_model_module": "@jupyter-widgets/base",
            "top": null,
            "grid_column": null,
            "overflow_y": null,
            "overflow_x": null,
            "grid_auto_flow": null,
            "grid_area": null,
            "grid_template_columns": null,
            "flex": null,
            "_model_name": "LayoutModel",
            "justify_items": null,
            "grid_row": null,
            "max_height": null,
            "align_content": null,
            "visibility": null,
            "align_self": null,
            "height": null,
            "min_height": null,
            "padding": null,
            "grid_auto_rows": null,
            "grid_gap": null,
            "max_width": null,
            "order": null,
            "_view_module_version": "1.2.0",
            "grid_template_areas": null,
            "object_position": null,
            "object_fit": null,
            "grid_auto_columns": null,
            "margin": null,
            "display": null,
            "left": null
          }
        },
        "15ea8167b7bc42289d9b80ddac6a21e5": {
          "model_module": "@jupyter-widgets/controls",
          "model_name": "ProgressStyleModel",
          "model_module_version": "1.5.0",
          "state": {
            "_view_name": "StyleView",
            "_model_name": "ProgressStyleModel",
            "description_width": "",
            "_view_module": "@jupyter-widgets/base",
            "_model_module_version": "1.5.0",
            "_view_count": null,
            "_view_module_version": "1.2.0",
            "bar_color": null,
            "_model_module": "@jupyter-widgets/controls"
          }
        },
        "9150aa1cb02e4481b028474aaa767c46": {
          "model_module": "@jupyter-widgets/base",
          "model_name": "LayoutModel",
          "model_module_version": "1.2.0",
          "state": {
            "_view_name": "LayoutView",
            "grid_template_rows": null,
            "right": null,
            "justify_content": null,
            "_view_module": "@jupyter-widgets/base",
            "overflow": null,
            "_model_module_version": "1.2.0",
            "_view_count": null,
            "flex_flow": null,
            "width": null,
            "min_width": null,
            "border": null,
            "align_items": null,
            "bottom": null,
            "_model_module": "@jupyter-widgets/base",
            "top": null,
            "grid_column": null,
            "overflow_y": null,
            "overflow_x": null,
            "grid_auto_flow": null,
            "grid_area": null,
            "grid_template_columns": null,
            "flex": null,
            "_model_name": "LayoutModel",
            "justify_items": null,
            "grid_row": null,
            "max_height": null,
            "align_content": null,
            "visibility": null,
            "align_self": null,
            "height": null,
            "min_height": null,
            "padding": null,
            "grid_auto_rows": null,
            "grid_gap": null,
            "max_width": null,
            "order": null,
            "_view_module_version": "1.2.0",
            "grid_template_areas": null,
            "object_position": null,
            "object_fit": null,
            "grid_auto_columns": null,
            "margin": null,
            "display": null,
            "left": null
          }
        },
        "c73ddd38c37c461dbfd1b338da72a10a": {
          "model_module": "@jupyter-widgets/controls",
          "model_name": "DescriptionStyleModel",
          "model_module_version": "1.5.0",
          "state": {
            "_view_name": "StyleView",
            "_model_name": "DescriptionStyleModel",
            "description_width": "",
            "_view_module": "@jupyter-widgets/base",
            "_model_module_version": "1.5.0",
            "_view_count": null,
            "_view_module_version": "1.2.0",
            "_model_module": "@jupyter-widgets/controls"
          }
        },
        "b4985f8b20a848cea3ed015a7b9a432c": {
          "model_module": "@jupyter-widgets/base",
          "model_name": "LayoutModel",
          "model_module_version": "1.2.0",
          "state": {
            "_view_name": "LayoutView",
            "grid_template_rows": null,
            "right": null,
            "justify_content": null,
            "_view_module": "@jupyter-widgets/base",
            "overflow": null,
            "_model_module_version": "1.2.0",
            "_view_count": null,
            "flex_flow": null,
            "width": null,
            "min_width": null,
            "border": null,
            "align_items": null,
            "bottom": null,
            "_model_module": "@jupyter-widgets/base",
            "top": null,
            "grid_column": null,
            "overflow_y": null,
            "overflow_x": null,
            "grid_auto_flow": null,
            "grid_area": null,
            "grid_template_columns": null,
            "flex": null,
            "_model_name": "LayoutModel",
            "justify_items": null,
            "grid_row": null,
            "max_height": null,
            "align_content": null,
            "visibility": null,
            "align_self": null,
            "height": null,
            "min_height": null,
            "padding": null,
            "grid_auto_rows": null,
            "grid_gap": null,
            "max_width": null,
            "order": null,
            "_view_module_version": "1.2.0",
            "grid_template_areas": null,
            "object_position": null,
            "object_fit": null,
            "grid_auto_columns": null,
            "margin": null,
            "display": null,
            "left": null
          }
        },
        "b5b0bd31aaeb4157834c376740c2ca3e": {
          "model_module": "@jupyter-widgets/controls",
          "model_name": "HBoxModel",
          "model_module_version": "1.5.0",
          "state": {
            "_view_name": "HBoxView",
            "_dom_classes": [],
            "_model_name": "HBoxModel",
            "_view_module": "@jupyter-widgets/controls",
            "_model_module_version": "1.5.0",
            "_view_count": null,
            "_view_module_version": "1.5.0",
            "box_style": "",
            "layout": "IPY_MODEL_a19bdcb05f064639bd68be8e40af9e00",
            "_model_module": "@jupyter-widgets/controls",
            "children": [
              "IPY_MODEL_dbdfe7bd4c38405c88e3492229c8ff8c",
              "IPY_MODEL_77a15dc7ec2b475cb66299979fab1c30",
              "IPY_MODEL_35957ff872ff402e914f58c95dbe515c"
            ]
          }
        },
        "a19bdcb05f064639bd68be8e40af9e00": {
          "model_module": "@jupyter-widgets/base",
          "model_name": "LayoutModel",
          "model_module_version": "1.2.0",
          "state": {
            "_view_name": "LayoutView",
            "grid_template_rows": null,
            "right": null,
            "justify_content": null,
            "_view_module": "@jupyter-widgets/base",
            "overflow": null,
            "_model_module_version": "1.2.0",
            "_view_count": null,
            "flex_flow": null,
            "width": null,
            "min_width": null,
            "border": null,
            "align_items": null,
            "bottom": null,
            "_model_module": "@jupyter-widgets/base",
            "top": null,
            "grid_column": null,
            "overflow_y": null,
            "overflow_x": null,
            "grid_auto_flow": null,
            "grid_area": null,
            "grid_template_columns": null,
            "flex": null,
            "_model_name": "LayoutModel",
            "justify_items": null,
            "grid_row": null,
            "max_height": null,
            "align_content": null,
            "visibility": null,
            "align_self": null,
            "height": null,
            "min_height": null,
            "padding": null,
            "grid_auto_rows": null,
            "grid_gap": null,
            "max_width": null,
            "order": null,
            "_view_module_version": "1.2.0",
            "grid_template_areas": null,
            "object_position": null,
            "object_fit": null,
            "grid_auto_columns": null,
            "margin": null,
            "display": null,
            "left": null
          }
        },
        "dbdfe7bd4c38405c88e3492229c8ff8c": {
          "model_module": "@jupyter-widgets/controls",
          "model_name": "HTMLModel",
          "model_module_version": "1.5.0",
          "state": {
            "_view_name": "HTMLView",
            "style": "IPY_MODEL_c139a02e1cc049668f6d1adbbfa8aa37",
            "_dom_classes": [],
            "description": "",
            "_model_name": "HTMLModel",
            "placeholder": "​",
            "_view_module": "@jupyter-widgets/controls",
            "_model_module_version": "1.5.0",
            "value": "Downloading: 100%",
            "_view_count": null,
            "_view_module_version": "1.5.0",
            "description_tooltip": null,
            "_model_module": "@jupyter-widgets/controls",
            "layout": "IPY_MODEL_2531b16fe17f4855989d0b922d5f6caa"
          }
        },
        "77a15dc7ec2b475cb66299979fab1c30": {
          "model_module": "@jupyter-widgets/controls",
          "model_name": "FloatProgressModel",
          "model_module_version": "1.5.0",
          "state": {
            "_view_name": "ProgressView",
            "style": "IPY_MODEL_a47acb20020f49a0b5a8bf02d99103fd",
            "_dom_classes": [],
            "description": "",
            "_model_name": "FloatProgressModel",
            "bar_style": "success",
            "max": 1355863,
            "_view_module": "@jupyter-widgets/controls",
            "_model_module_version": "1.5.0",
            "value": 1355863,
            "_view_count": null,
            "_view_module_version": "1.5.0",
            "orientation": "horizontal",
            "min": 0,
            "description_tooltip": null,
            "_model_module": "@jupyter-widgets/controls",
            "layout": "IPY_MODEL_00035100ae0c4054bee365b59a6ec081"
          }
        },
        "35957ff872ff402e914f58c95dbe515c": {
          "model_module": "@jupyter-widgets/controls",
          "model_name": "HTMLModel",
          "model_module_version": "1.5.0",
          "state": {
            "_view_name": "HTMLView",
            "style": "IPY_MODEL_9eae6212268e4a26935939f5f1a4f506",
            "_dom_classes": [],
            "description": "",
            "_model_name": "HTMLModel",
            "placeholder": "​",
            "_view_module": "@jupyter-widgets/controls",
            "_model_module_version": "1.5.0",
            "value": " 1.29M/1.29M [00:00&lt;00:00, 3.48MB/s]",
            "_view_count": null,
            "_view_module_version": "1.5.0",
            "description_tooltip": null,
            "_model_module": "@jupyter-widgets/controls",
            "layout": "IPY_MODEL_ae2797159e334026b05f912c4fa0aeed"
          }
        },
        "c139a02e1cc049668f6d1adbbfa8aa37": {
          "model_module": "@jupyter-widgets/controls",
          "model_name": "DescriptionStyleModel",
          "model_module_version": "1.5.0",
          "state": {
            "_view_name": "StyleView",
            "_model_name": "DescriptionStyleModel",
            "description_width": "",
            "_view_module": "@jupyter-widgets/base",
            "_model_module_version": "1.5.0",
            "_view_count": null,
            "_view_module_version": "1.2.0",
            "_model_module": "@jupyter-widgets/controls"
          }
        },
        "2531b16fe17f4855989d0b922d5f6caa": {
          "model_module": "@jupyter-widgets/base",
          "model_name": "LayoutModel",
          "model_module_version": "1.2.0",
          "state": {
            "_view_name": "LayoutView",
            "grid_template_rows": null,
            "right": null,
            "justify_content": null,
            "_view_module": "@jupyter-widgets/base",
            "overflow": null,
            "_model_module_version": "1.2.0",
            "_view_count": null,
            "flex_flow": null,
            "width": null,
            "min_width": null,
            "border": null,
            "align_items": null,
            "bottom": null,
            "_model_module": "@jupyter-widgets/base",
            "top": null,
            "grid_column": null,
            "overflow_y": null,
            "overflow_x": null,
            "grid_auto_flow": null,
            "grid_area": null,
            "grid_template_columns": null,
            "flex": null,
            "_model_name": "LayoutModel",
            "justify_items": null,
            "grid_row": null,
            "max_height": null,
            "align_content": null,
            "visibility": null,
            "align_self": null,
            "height": null,
            "min_height": null,
            "padding": null,
            "grid_auto_rows": null,
            "grid_gap": null,
            "max_width": null,
            "order": null,
            "_view_module_version": "1.2.0",
            "grid_template_areas": null,
            "object_position": null,
            "object_fit": null,
            "grid_auto_columns": null,
            "margin": null,
            "display": null,
            "left": null
          }
        },
        "a47acb20020f49a0b5a8bf02d99103fd": {
          "model_module": "@jupyter-widgets/controls",
          "model_name": "ProgressStyleModel",
          "model_module_version": "1.5.0",
          "state": {
            "_view_name": "StyleView",
            "_model_name": "ProgressStyleModel",
            "description_width": "",
            "_view_module": "@jupyter-widgets/base",
            "_model_module_version": "1.5.0",
            "_view_count": null,
            "_view_module_version": "1.2.0",
            "bar_color": null,
            "_model_module": "@jupyter-widgets/controls"
          }
        },
        "00035100ae0c4054bee365b59a6ec081": {
          "model_module": "@jupyter-widgets/base",
          "model_name": "LayoutModel",
          "model_module_version": "1.2.0",
          "state": {
            "_view_name": "LayoutView",
            "grid_template_rows": null,
            "right": null,
            "justify_content": null,
            "_view_module": "@jupyter-widgets/base",
            "overflow": null,
            "_model_module_version": "1.2.0",
            "_view_count": null,
            "flex_flow": null,
            "width": null,
            "min_width": null,
            "border": null,
            "align_items": null,
            "bottom": null,
            "_model_module": "@jupyter-widgets/base",
            "top": null,
            "grid_column": null,
            "overflow_y": null,
            "overflow_x": null,
            "grid_auto_flow": null,
            "grid_area": null,
            "grid_template_columns": null,
            "flex": null,
            "_model_name": "LayoutModel",
            "justify_items": null,
            "grid_row": null,
            "max_height": null,
            "align_content": null,
            "visibility": null,
            "align_self": null,
            "height": null,
            "min_height": null,
            "padding": null,
            "grid_auto_rows": null,
            "grid_gap": null,
            "max_width": null,
            "order": null,
            "_view_module_version": "1.2.0",
            "grid_template_areas": null,
            "object_position": null,
            "object_fit": null,
            "grid_auto_columns": null,
            "margin": null,
            "display": null,
            "left": null
          }
        },
        "9eae6212268e4a26935939f5f1a4f506": {
          "model_module": "@jupyter-widgets/controls",
          "model_name": "DescriptionStyleModel",
          "model_module_version": "1.5.0",
          "state": {
            "_view_name": "StyleView",
            "_model_name": "DescriptionStyleModel",
            "description_width": "",
            "_view_module": "@jupyter-widgets/base",
            "_model_module_version": "1.5.0",
            "_view_count": null,
            "_view_module_version": "1.2.0",
            "_model_module": "@jupyter-widgets/controls"
          }
        },
        "ae2797159e334026b05f912c4fa0aeed": {
          "model_module": "@jupyter-widgets/base",
          "model_name": "LayoutModel",
          "model_module_version": "1.2.0",
          "state": {
            "_view_name": "LayoutView",
            "grid_template_rows": null,
            "right": null,
            "justify_content": null,
            "_view_module": "@jupyter-widgets/base",
            "overflow": null,
            "_model_module_version": "1.2.0",
            "_view_count": null,
            "flex_flow": null,
            "width": null,
            "min_width": null,
            "border": null,
            "align_items": null,
            "bottom": null,
            "_model_module": "@jupyter-widgets/base",
            "top": null,
            "grid_column": null,
            "overflow_y": null,
            "overflow_x": null,
            "grid_auto_flow": null,
            "grid_area": null,
            "grid_template_columns": null,
            "flex": null,
            "_model_name": "LayoutModel",
            "justify_items": null,
            "grid_row": null,
            "max_height": null,
            "align_content": null,
            "visibility": null,
            "align_self": null,
            "height": null,
            "min_height": null,
            "padding": null,
            "grid_auto_rows": null,
            "grid_gap": null,
            "max_width": null,
            "order": null,
            "_view_module_version": "1.2.0",
            "grid_template_areas": null,
            "object_position": null,
            "object_fit": null,
            "grid_auto_columns": null,
            "margin": null,
            "display": null,
            "left": null
          }
        }
      }
    }
  },
  "cells": [
    {
      "cell_type": "markdown",
      "metadata": {
        "id": "VvP5rsnKAVhG"
      },
      "source": [
        "# R&J Sentence Extraction (Presummarized)\n",
        "\n",
        "Extracted one group(five sentences) with maximized squared sum of emotion value from presummarized data."
      ]
    },
    {
      "cell_type": "code",
      "metadata": {
        "id": "YY6tug4p536h",
        "colab": {
          "base_uri": "https://localhost:8080/"
        },
        "outputId": "f914f551-5680-4f92-ae93-22e7735077b7"
      },
      "source": [
        "!pip install text2emotion"
      ],
      "execution_count": 1,
      "outputs": [
        {
          "output_type": "stream",
          "name": "stdout",
          "text": [
            "Collecting text2emotion\n",
            "  Downloading text2emotion-0.0.5-py3-none-any.whl (57 kB)\n",
            "\u001b[?25l\r\u001b[K     |█████▊                          | 10 kB 21.7 MB/s eta 0:00:01\r\u001b[K     |███████████▍                    | 20 kB 25.4 MB/s eta 0:00:01\r\u001b[K     |█████████████████               | 30 kB 26.7 MB/s eta 0:00:01\r\u001b[K     |██████████████████████▊         | 40 kB 22.2 MB/s eta 0:00:01\r\u001b[K     |████████████████████████████▍   | 51 kB 15.0 MB/s eta 0:00:01\r\u001b[K     |████████████████████████████████| 57 kB 3.6 MB/s \n",
            "\u001b[?25hCollecting emoji>=0.6.0\n",
            "  Downloading emoji-1.6.1.tar.gz (170 kB)\n",
            "\u001b[?25l\r\u001b[K     |██                              | 10 kB 34.0 MB/s eta 0:00:01\r\u001b[K     |███▉                            | 20 kB 42.6 MB/s eta 0:00:01\r\u001b[K     |█████▉                          | 30 kB 45.9 MB/s eta 0:00:01\r\u001b[K     |███████▊                        | 40 kB 48.7 MB/s eta 0:00:01\r\u001b[K     |█████████▋                      | 51 kB 51.5 MB/s eta 0:00:01\r\u001b[K     |███████████▋                    | 61 kB 52.7 MB/s eta 0:00:01\r\u001b[K     |█████████████▌                  | 71 kB 52.5 MB/s eta 0:00:01\r\u001b[K     |███████████████▍                | 81 kB 51.8 MB/s eta 0:00:01\r\u001b[K     |█████████████████▍              | 92 kB 28.9 MB/s eta 0:00:01\r\u001b[K     |███████████████████▎            | 102 kB 28.3 MB/s eta 0:00:01\r\u001b[K     |█████████████████████▏          | 112 kB 28.3 MB/s eta 0:00:01\r\u001b[K     |███████████████████████▏        | 122 kB 28.3 MB/s eta 0:00:01\r\u001b[K     |█████████████████████████       | 133 kB 28.3 MB/s eta 0:00:01\r\u001b[K     |███████████████████████████     | 143 kB 28.3 MB/s eta 0:00:01\r\u001b[K     |█████████████████████████████   | 153 kB 28.3 MB/s eta 0:00:01\r\u001b[K     |██████████████████████████████▉ | 163 kB 28.3 MB/s eta 0:00:01\r\u001b[K     |████████████████████████████████| 170 kB 28.3 MB/s \n",
            "\u001b[?25hRequirement already satisfied: nltk in /usr/local/lib/python3.7/dist-packages (from text2emotion) (3.2.5)\n",
            "Requirement already satisfied: six in /usr/local/lib/python3.7/dist-packages (from nltk->text2emotion) (1.15.0)\n",
            "Building wheels for collected packages: emoji\n",
            "  Building wheel for emoji (setup.py) ... \u001b[?25l\u001b[?25hdone\n",
            "  Created wheel for emoji: filename=emoji-1.6.1-py3-none-any.whl size=169314 sha256=3274efc03d73b908662a0334eb793cd0e35ce3f04813371bc68a1ef115223719\n",
            "  Stored in directory: /root/.cache/pip/wheels/ea/5f/d3/03d313ddb3c2a1a427bb4690f1621eea60fe6f2a30cc95940f\n",
            "Successfully built emoji\n",
            "Installing collected packages: emoji, text2emotion\n",
            "Successfully installed emoji-1.6.1 text2emotion-0.0.5\n"
          ]
        }
      ]
    },
    {
      "cell_type": "code",
      "metadata": {
        "id": "3IgWOKS-6N2-"
      },
      "source": [
        "text = \"\"\"In the streets of Verona, another brawl breaks out between the servants of the feuding noble families of Capulet and Montague. Benvolio, a Montague, tries to stop the fighting, but he is himself embroiled when Tybalt, a rash Capulet, arrives on the scene. After citizens outraged by the constant violence beat back the warring factions, Prince Escalus, the ruler of Verona, attempts to prevent any further conflicts between the families by decreeing death for any individual who disturbs the peace in the future. Romeo, the son of Montague, runs into his cousin Benvolio, who had earlier seen Romeo moping in a grove of sycamores. After some prodding by Benvolio, Romeo confides that he is in love with Rosaline, a woman who does not return his affections. Benvolio counsels him to forget this woman and find another, more beautiful one, but Romeo remains despondent. Meanwhile, Paris, a kinsman of the Prince, seeks Juliet’s hand in marriage. Her father Capulet, though happy at the match, asks Paris to wait two years, since Juliet is not yet even fourteen. Capulet dispatches a servant with a list of people to invite to a masquerade and feast he traditionally holds. He invites Paris to the feast, hoping that Paris will begin to win Juliet’s heart. Romeo and Benvolio, still discussing Rosaline, encounter the Capulet servant bearing the list of invitations. Benvolio suggests that they attend, since that will allow Romeo to compare his beloved to other beautiful women of Verona. Romeo agrees to go with Benvolio to the feast, but only because Rosaline, whose name he reads on the list, will be there. In Capulet’s household, young Juliet talks with her mother, Lady Capulet, and her nurse about the possibility of marrying Paris. Juliet has not yet considered marriage, but agrees to look at Paris during the feast to see if she thinks she could fall in love with him. The feast begins. A melancholy Romeo follows Benvolio and their witty friend Mercutio to Capulet’s house. Once inside, Romeo sees Juliet from a distance and instantly falls in love with her; he forgets about Rosaline completely. As Romeo watches Juliet, entranced, a young Capulet, Tybalt, recognizes him, and is enraged that a Montague would sneak into a Capulet feast. He prepares to attack, but Capulet holds him back. Soon, Romeo speaks to Juliet, and the two experience a profound attraction. They kiss, not even knowing each other’s names. When he finds out from Juliet’s nurse that she is the daughter of Capulet—his family’s enemy—he becomes distraught. When Juliet learns that the young man she has just kissed is the son of Montague, she grows equally upset. As Mercutio and Benvolio leave the Capulet estate, Romeo leaps over the orchard wall into the garden, unable to leave Juliet behind. From his hiding place, he sees Juliet in a window above the orchard and hears her speak his name. He calls out to her, and they exchange vows of love. Romeo hurries to see his friend and confessor Friar Lawrence, who, though shocked at the sudden turn of Romeo’s heart, agrees to marry the young lovers in secret since he sees in their love the possibility of ending the age-old feud between Capulet and Montague. The following day, Romeo and Juliet meet at Friar Lawrence’s cell and are married. The Nurse, who is privy to the secret, procures a ladder, which Romeo will use to climb into Juliet’s window for their wedding night. The next day, Benvolio and Mercutio encounter Tybalt—Juliet’s cousin—who, still enraged that Romeo attended Capulet’s feast, has challenged Romeo to a duel. Romeo appears. Now Tybalt’s kinsman by marriage, Romeo begs the Capulet to hold off the duel until he understands why Romeo does not want to fight. Disgusted with this plea for peace, Mercutio says that he will fight Tybalt himself. The two begin to duel. Romeo tries to stop them by leaping between the combatants. Tybalt stabs Mercutio under Romeo’s arm, and Mercutio dies. Romeo, in a rage, kills Tybalt. Romeo flees from the scene. Soon after, the Prince declares him forever banished from Verona for his crime. Friar Lawrence arranges for Romeo to spend his wedding night with Juliet before he has to leave for Mantua the following morning. In her room, Juliet awaits the arrival of her new husband. The Nurse enters, and, after some confusion, tells Juliet that Romeo has killed Tybalt. Distraught, Juliet suddenly finds herself married to a man who has killed her kinsman. But she resettles herself, and realizes that her duty belongs with her love: to Romeo. Romeo sneaks into Juliet’s room that night, and at last they consummate their marriage and their love. Morning comes, and the lovers bid farewell, unsure when they will see each other again. Juliet learns that her father, affected by the recent events, now intends for her to marry Paris in just three days. Unsure of how to proceed—unable to reveal to her parents that she is married to Romeo, but unwilling to marry Paris now that she is Romeo’s wife—Juliet asks her nurse for advice. She counsels Juliet to proceed as if Romeo were dead and to marry Paris, who is a better match anyway. Disgusted with the Nurse’s disloyalty, Juliet disregards her advice and hurries to Friar Lawrence. He concocts a plan to reunite Juliet with Romeo in Mantua. The night before her wedding to Paris, Juliet must drink a potion that will make her appear to be dead. After she is laid to rest in the family’s crypt, the Friar and Romeo will secretly retrieve her, and she will be free to live with Romeo, away from their parents’ feuding. Juliet returns home to discover the wedding has been moved ahead one day, and she is to be married tomorrow. That night, Juliet drinks the potion, and the Nurse discovers her, apparently dead, the next morning. The Capulets grieve, and Juliet is entombed according to plan. But Friar Lawrence’s message explaining the plan to Romeo never reaches Mantua. Its bearer, Friar John, gets confined to a quarantined house. Romeo hears only that Juliet is dead. Romeo learns only of Juliet’s death and decides to kill himself rather than live without her. He buys a vial of poison from a reluctant Apothecary, then speeds back to Verona to take his own life at Juliet’s tomb. Outside the Capulet crypt, Romeo comes upon Paris, who is scattering flowers on Juliet’s grave. They fight, and Romeo kills Paris. He enters the tomb, sees Juliet’s inanimate body, drinks the poison, and dies by her side. Just then, Friar Lawrence enters and realizes that Romeo has killed Paris and himself. At the same time, Juliet awakes. Friar Lawrence hears the coming of the watch. When Juliet refuses to leave with him, he flees alone. Juliet sees her beloved Romeo and realizes he has killed himself with poison. She kisses his poisoned lips, and when that does not kill her, buries his dagger in her chest, falling dead upon his body. The watch arrives, followed closely by the Prince, the Capulets, and Montague. Montague declares that Lady Montague has died of grief over Romeo’s exile. Seeing their children’s bodies, Capulet and Montague agree to end their long-standing feud and to raise gold statues of their children side-by-side in a newly peaceful Verona.\"\"\""
      ],
      "execution_count": 2,
      "outputs": []
    },
    {
      "cell_type": "code",
      "metadata": {
        "id": "w5aqMZ0R8pHO",
        "colab": {
          "base_uri": "https://localhost:8080/"
        },
        "outputId": "699f5824-5c90-444e-c4d8-cddd53b6216b"
      },
      "source": [
        "import text2emotion as te\n",
        "\n",
        "# Whole text EA\n",
        "te.get_emotion(text)"
      ],
      "execution_count": 3,
      "outputs": [
        {
          "output_type": "stream",
          "name": "stdout",
          "text": [
            "[nltk_data] Downloading package stopwords to /root/nltk_data...\n",
            "[nltk_data]   Unzipping corpora/stopwords.zip.\n",
            "[nltk_data] Downloading package punkt to /root/nltk_data...\n",
            "[nltk_data]   Unzipping tokenizers/punkt.zip.\n",
            "[nltk_data] Downloading package wordnet to /root/nltk_data...\n",
            "[nltk_data]   Unzipping corpora/wordnet.zip.\n"
          ]
        },
        {
          "output_type": "execute_result",
          "data": {
            "text/plain": [
              "{'Angry': 0.1, 'Fear': 0.26, 'Happy': 0.15, 'Sad': 0.24, 'Surprise': 0.25}"
            ]
          },
          "metadata": {},
          "execution_count": 3
        }
      ]
    },
    {
      "cell_type": "code",
      "metadata": {
        "id": "8ytT9QBw-1_x"
      },
      "source": [
        "import nltk\n",
        "from nltk.tokenize import sent_tokenize\n",
        "\n",
        "# 문장 단위 tokenize\n",
        "tokenized = nltk.sent_tokenize(text)"
      ],
      "execution_count": 4,
      "outputs": []
    },
    {
      "cell_type": "code",
      "metadata": {
        "id": "iVvC21nN_v8i"
      },
      "source": [
        "grouped = []\n",
        "\n",
        "# 5 문장 단위로 묶기\n",
        "for i in range((len(tokenized) // 5) + 1):\n",
        "    grouped.append(tokenized[5*i:5*(i+1)])"
      ],
      "execution_count": 5,
      "outputs": []
    },
    {
      "cell_type": "code",
      "metadata": {
        "id": "pm4mebFMBpwV",
        "colab": {
          "base_uri": "https://localhost:8080/",
          "height": 139
        },
        "outputId": "846981d2-3bea-4c32-9171-a76ec5b0b697"
      },
      "source": [
        "# 첫 묶음 확인\n",
        "''.join(grouped[0])"
      ],
      "execution_count": 6,
      "outputs": [
        {
          "output_type": "execute_result",
          "data": {
            "application/vnd.google.colaboratory.intrinsic+json": {
              "type": "string"
            },
            "text/plain": [
              "'In the streets of Verona, another brawl breaks out between the servants of the feuding noble families of Capulet and Montague.Benvolio, a Montague, tries to stop the fighting, but he is himself embroiled when Tybalt, a rash Capulet, arrives on the scene.After citizens outraged by the constant violence beat back the warring factions, Prince Escalus, the ruler of Verona, attempts to prevent any further conflicts between the families by decreeing death for any individual who disturbs the peace in the future.Romeo, the son of Montague, runs into his cousin Benvolio, who had earlier seen Romeo moping in a grove of sycamores.After some prodding by Benvolio, Romeo confides that he is in love with Rosaline, a woman who does not return his affections.'"
            ]
          },
          "metadata": {},
          "execution_count": 6
        }
      ]
    },
    {
      "cell_type": "code",
      "metadata": {
        "id": "VW9-RpzbAiXI"
      },
      "source": [
        "# get_emotion 결과물 저장할 리스트 생성\n",
        "emotions = []\n",
        "\n",
        "for group in grouped:\n",
        "    emotions.append(te.get_emotion(''.join(group)))"
      ],
      "execution_count": 7,
      "outputs": []
    },
    {
      "cell_type": "code",
      "metadata": {
        "id": "-arQFloc6B64"
      },
      "source": [
        "# 각 group의 emotion value의 squared sum을 emotions_max에 저장\n",
        "emotions_max = []\n",
        "\n",
        "for i in range(len(emotions)):\n",
        "  emotions_max.append(emotions[i]['Angry'] ** 2 + emotions[i]['Sad'] ** 2 + emotions[i]['Happy'] ** 2 + emotions[i]['Fear'] ** 2 + emotions[i]['Surprise'] ** 2)"
      ],
      "execution_count": 8,
      "outputs": []
    },
    {
      "cell_type": "markdown",
      "metadata": {
        "id": "-e9d4Bgze1Cc"
      },
      "source": [
        "## Top\n",
        "### squared sum이 가장 큰 group 앞뒤 2 단락씩 추출"
      ]
    },
    {
      "cell_type": "code",
      "metadata": {
        "id": "81gNk0gZC6lg"
      },
      "source": [
        "top = []\n",
        "for i in [-2, -1, 0, 1, 2]:\n",
        "  top.append(grouped[emotions_max.index(max(emotions_max))+i])"
      ],
      "execution_count": 9,
      "outputs": []
    },
    {
      "cell_type": "code",
      "metadata": {
        "id": "HO0FST6nC-D5",
        "colab": {
          "base_uri": "https://localhost:8080/"
        },
        "outputId": "1b48d8b2-8b22-4059-dbfb-e146976cd68e"
      },
      "source": [
        "top"
      ],
      "execution_count": 10,
      "outputs": [
        {
          "output_type": "execute_result",
          "data": {
            "text/plain": [
              "[['Romeo sneaks into Juliet’s room that night, and at last they consummate their marriage and their love.',\n",
              "  'Morning comes, and the lovers bid farewell, unsure when they will see each other again.',\n",
              "  'Juliet learns that her father, affected by the recent events, now intends for her to marry Paris in just three days.',\n",
              "  'Unsure of how to proceed—unable to reveal to her parents that she is married to Romeo, but unwilling to marry Paris now that she is Romeo’s wife—Juliet asks her nurse for advice.',\n",
              "  'She counsels Juliet to proceed as if Romeo were dead and to marry Paris, who is a better match anyway.'],\n",
              " ['Disgusted with the Nurse’s disloyalty, Juliet disregards her advice and hurries to Friar Lawrence.',\n",
              "  'He concocts a plan to reunite Juliet with Romeo in Mantua.',\n",
              "  'The night before her wedding to Paris, Juliet must drink a potion that will make her appear to be dead.',\n",
              "  'After she is laid to rest in the family’s crypt, the Friar and Romeo will secretly retrieve her, and she will be free to live with Romeo, away from their parents’ feuding.',\n",
              "  'Juliet returns home to discover the wedding has been moved ahead one day, and she is to be married tomorrow.'],\n",
              " ['That night, Juliet drinks the potion, and the Nurse discovers her, apparently dead, the next morning.',\n",
              "  'The Capulets grieve, and Juliet is entombed according to plan.',\n",
              "  'But Friar Lawrence’s message explaining the plan to Romeo never reaches Mantua.',\n",
              "  'Its bearer, Friar John, gets confined to a quarantined house.',\n",
              "  'Romeo hears only that Juliet is dead.'],\n",
              " ['Romeo learns only of Juliet’s death and decides to kill himself rather than live without her.',\n",
              "  'He buys a vial of poison from a reluctant Apothecary, then speeds back to Verona to take his own life at Juliet’s tomb.',\n",
              "  'Outside the Capulet crypt, Romeo comes upon Paris, who is scattering flowers on Juliet’s grave.',\n",
              "  'They fight, and Romeo kills Paris.',\n",
              "  'He enters the tomb, sees Juliet’s inanimate body, drinks the poison, and dies by her side.'],\n",
              " ['Just then, Friar Lawrence enters and realizes that Romeo has killed Paris and himself.',\n",
              "  'At the same time, Juliet awakes.',\n",
              "  'Friar Lawrence hears the coming of the watch.',\n",
              "  'When Juliet refuses to leave with him, he flees alone.',\n",
              "  'Juliet sees her beloved Romeo and realizes he has killed himself with poison.']]"
            ]
          },
          "metadata": {},
          "execution_count": 10
        }
      ]
    },
    {
      "cell_type": "markdown",
      "metadata": {
        "id": "CUZnuVKkfYKw"
      },
      "source": [
        "## Separated 4 regions\n",
        "### squared sum이 큰 4개의 group 추출"
      ]
    },
    {
      "cell_type": "code",
      "metadata": {
        "id": "T8oYCND491RU"
      },
      "source": [
        "import numpy as np\n",
        "# squared sum이 가장 큰 4개의 group 추출하기 \n",
        "top_4_idx = np.argsort(emotions_max)[-4:]\n",
        "top_4_values = [emotions_max[i] for i in top_4_idx]"
      ],
      "execution_count": 13,
      "outputs": []
    },
    {
      "cell_type": "code",
      "metadata": {
        "id": "fZReasOT-E3F",
        "colab": {
          "base_uri": "https://localhost:8080/"
        },
        "outputId": "e6a294b7-10d0-45bf-8008-6416c8e172da"
      },
      "source": [
        "extracted = []\n",
        "for i in top_4_values:\n",
        "  print(grouped[emotions_max.index(i)])\n",
        "  extracted.append(grouped[emotions_max.index(i)])"
      ],
      "execution_count": 14,
      "outputs": [
        {
          "output_type": "stream",
          "name": "stdout",
          "text": [
            "['Romeo and Benvolio, still discussing Rosaline, encounter the Capulet servant bearing the list of invitations.', 'Benvolio suggests that they attend, since that will allow Romeo to compare his beloved to other beautiful women of Verona.', 'Romeo agrees to go with Benvolio to the feast, but only because Rosaline, whose name he reads on the list, will be there.', 'In Capulet’s household, young Juliet talks with her mother, Lady Capulet, and her nurse about the possibility of marrying Paris.', 'Juliet has not yet considered marriage, but agrees to look at Paris during the feast to see if she thinks she could fall in love with him.']\n",
            "['Romeo tries to stop them by leaping between the combatants.', 'Tybalt stabs Mercutio under Romeo’s arm, and Mercutio dies.', 'Romeo, in a rage, kills Tybalt.', 'Romeo flees from the scene.', 'Soon after, the Prince declares him forever banished from Verona for his crime.']\n",
            "['Just then, Friar Lawrence enters and realizes that Romeo has killed Paris and himself.', 'At the same time, Juliet awakes.', 'Friar Lawrence hears the coming of the watch.', 'When Juliet refuses to leave with him, he flees alone.', 'Juliet sees her beloved Romeo and realizes he has killed himself with poison.']\n",
            "['That night, Juliet drinks the potion, and the Nurse discovers her, apparently dead, the next morning.', 'The Capulets grieve, and Juliet is entombed according to plan.', 'But Friar Lawrence’s message explaining the plan to Romeo never reaches Mantua.', 'Its bearer, Friar John, gets confined to a quarantined house.', 'Romeo hears only that Juliet is dead.']\n"
          ]
        }
      ]
    },
    {
      "cell_type": "markdown",
      "metadata": {
        "id": "uI34LOoMftGN"
      },
      "source": [
        "## 추출된 결과로 Text Summarization with BART"
      ]
    },
    {
      "cell_type": "code",
      "metadata": {
        "id": "l_rShV6A_U84",
        "colab": {
          "base_uri": "https://localhost:8080/"
        },
        "outputId": "d7487edc-d349-4491-ba31-ee9a3e93d91b"
      },
      "source": [
        "!pip install transformers"
      ],
      "execution_count": 15,
      "outputs": [
        {
          "output_type": "stream",
          "name": "stdout",
          "text": [
            "Collecting transformers\n",
            "  Downloading transformers-4.12.5-py3-none-any.whl (3.1 MB)\n",
            "\u001b[K     |████████████████████████████████| 3.1 MB 12.3 MB/s \n",
            "\u001b[?25hRequirement already satisfied: numpy>=1.17 in /usr/local/lib/python3.7/dist-packages (from transformers) (1.19.5)\n",
            "Collecting sacremoses\n",
            "  Downloading sacremoses-0.0.46-py3-none-any.whl (895 kB)\n",
            "\u001b[K     |████████████████████████████████| 895 kB 34.7 MB/s \n",
            "\u001b[?25hCollecting tokenizers<0.11,>=0.10.1\n",
            "  Downloading tokenizers-0.10.3-cp37-cp37m-manylinux_2_5_x86_64.manylinux1_x86_64.manylinux_2_12_x86_64.manylinux2010_x86_64.whl (3.3 MB)\n",
            "\u001b[K     |████████████████████████████████| 3.3 MB 39.5 MB/s \n",
            "\u001b[?25hRequirement already satisfied: packaging>=20.0 in /usr/local/lib/python3.7/dist-packages (from transformers) (21.3)\n",
            "Collecting pyyaml>=5.1\n",
            "  Downloading PyYAML-6.0-cp37-cp37m-manylinux_2_5_x86_64.manylinux1_x86_64.manylinux_2_12_x86_64.manylinux2010_x86_64.whl (596 kB)\n",
            "\u001b[K     |████████████████████████████████| 596 kB 38.8 MB/s \n",
            "\u001b[?25hRequirement already satisfied: importlib-metadata in /usr/local/lib/python3.7/dist-packages (from transformers) (4.8.2)\n",
            "Collecting huggingface-hub<1.0,>=0.1.0\n",
            "  Downloading huggingface_hub-0.1.2-py3-none-any.whl (59 kB)\n",
            "\u001b[K     |████████████████████████████████| 59 kB 6.5 MB/s \n",
            "\u001b[?25hRequirement already satisfied: regex!=2019.12.17 in /usr/local/lib/python3.7/dist-packages (from transformers) (2019.12.20)\n",
            "Requirement already satisfied: requests in /usr/local/lib/python3.7/dist-packages (from transformers) (2.23.0)\n",
            "Requirement already satisfied: tqdm>=4.27 in /usr/local/lib/python3.7/dist-packages (from transformers) (4.62.3)\n",
            "Requirement already satisfied: filelock in /usr/local/lib/python3.7/dist-packages (from transformers) (3.4.0)\n",
            "Requirement already satisfied: typing-extensions>=3.7.4.3 in /usr/local/lib/python3.7/dist-packages (from huggingface-hub<1.0,>=0.1.0->transformers) (3.10.0.2)\n",
            "Requirement already satisfied: pyparsing!=3.0.5,>=2.0.2 in /usr/local/lib/python3.7/dist-packages (from packaging>=20.0->transformers) (3.0.6)\n",
            "Requirement already satisfied: zipp>=0.5 in /usr/local/lib/python3.7/dist-packages (from importlib-metadata->transformers) (3.6.0)\n",
            "Requirement already satisfied: certifi>=2017.4.17 in /usr/local/lib/python3.7/dist-packages (from requests->transformers) (2021.10.8)\n",
            "Requirement already satisfied: chardet<4,>=3.0.2 in /usr/local/lib/python3.7/dist-packages (from requests->transformers) (3.0.4)\n",
            "Requirement already satisfied: urllib3!=1.25.0,!=1.25.1,<1.26,>=1.21.1 in /usr/local/lib/python3.7/dist-packages (from requests->transformers) (1.24.3)\n",
            "Requirement already satisfied: idna<3,>=2.5 in /usr/local/lib/python3.7/dist-packages (from requests->transformers) (2.10)\n",
            "Requirement already satisfied: click in /usr/local/lib/python3.7/dist-packages (from sacremoses->transformers) (7.1.2)\n",
            "Requirement already satisfied: six in /usr/local/lib/python3.7/dist-packages (from sacremoses->transformers) (1.15.0)\n",
            "Requirement already satisfied: joblib in /usr/local/lib/python3.7/dist-packages (from sacremoses->transformers) (1.1.0)\n",
            "Installing collected packages: pyyaml, tokenizers, sacremoses, huggingface-hub, transformers\n",
            "  Attempting uninstall: pyyaml\n",
            "    Found existing installation: PyYAML 3.13\n",
            "    Uninstalling PyYAML-3.13:\n",
            "      Successfully uninstalled PyYAML-3.13\n",
            "Successfully installed huggingface-hub-0.1.2 pyyaml-6.0 sacremoses-0.0.46 tokenizers-0.10.3 transformers-4.12.5\n"
          ]
        }
      ]
    },
    {
      "cell_type": "code",
      "metadata": {
        "id": "XHwYFbGr-7c3",
        "colab": {
          "base_uri": "https://localhost:8080/",
          "height": 177,
          "referenced_widgets": [
            "a060c26f89914717befa29b0093341d9",
            "fec48ee8893e4aefa0946c2981f7b35a",
            "250e50c2698e42eeb222e21074ed26ef",
            "c24afa24679d42aab957ed7afb2d6249",
            "733ad8d773e44c25b7a3a38f2ecb4941",
            "7fe62b13538d4c3cb549d7309a3c23cb",
            "51e2058b0313433c8743dc5f0204add5",
            "7c1199e04eb941549ba4a1c87a53c05a",
            "0697206b8f4a4cefb217f0d43924cf3d",
            "12ddec21ac4b414ba86bbbfabe756f4b",
            "0e3200408da943ddabe863022dbc3abd",
            "80d34718f3ad4da385b68262ea3d9968",
            "ad825db263364f599a0423911fdb830a",
            "48a3788f52674ad0a28b20b753296408",
            "57fe24b54de24dfd8dd0297db62bd4bc",
            "105ae5ef8be44c3580ee62ae8e1f4f51",
            "9c323619d2494c41831f221bbbf92e59",
            "84e3ac00f3b242d5b27a45c00877d4e7",
            "b22366f010d84d1ca68cbb41459836db",
            "6a6e90cdc32b48d59b9a7ac96d3e3a13",
            "571d667b899c4d839f2636589dbdcf79",
            "666f7e82bbf040609ae29899df7e14b4",
            "98afe3f36c9a4b8da77ea417d8d002f1",
            "d73f5358f002406cb1a1eea7dd7cf135",
            "744f472bee4c4ebd9599a6c7f65b33f7",
            "d2463d38ee26445892529aef6a0a10b6",
            "f9f521da251d4710bf984918d9bb31d0",
            "8909dc5d923b4025a15406017f1d82e5",
            "9e5df75cab6745689e7d07686e626cd3",
            "bbd842fde239422786171126dbb31b20",
            "5a977289c8734b748c1a4aeb8b9c7666",
            "11a494b6cd69470a98d42dbc1c9f6f6a",
            "2562f4b649b5473ba6a2be60f5c36f02",
            "f22ea7649198410da74d05e5dfb98114",
            "8d1a85723d974ef0bcdd30280d0fea49",
            "e6e8718b20ea46e79d44d318ad04a7a8",
            "930c1ef6f21841a1ba5298b3b23ff681",
            "64e96bed2d4048fc92de409f2b6cbd30",
            "1990793eced44a71a6bc3fab83a37505",
            "951493e3d34444338edb19de22580fb5",
            "15ea8167b7bc42289d9b80ddac6a21e5",
            "9150aa1cb02e4481b028474aaa767c46",
            "c73ddd38c37c461dbfd1b338da72a10a",
            "b4985f8b20a848cea3ed015a7b9a432c",
            "b5b0bd31aaeb4157834c376740c2ca3e",
            "a19bdcb05f064639bd68be8e40af9e00",
            "dbdfe7bd4c38405c88e3492229c8ff8c",
            "77a15dc7ec2b475cb66299979fab1c30",
            "35957ff872ff402e914f58c95dbe515c",
            "c139a02e1cc049668f6d1adbbfa8aa37",
            "2531b16fe17f4855989d0b922d5f6caa",
            "a47acb20020f49a0b5a8bf02d99103fd",
            "00035100ae0c4054bee365b59a6ec081",
            "9eae6212268e4a26935939f5f1a4f506",
            "ae2797159e334026b05f912c4fa0aeed"
          ]
        },
        "outputId": "12a1da03-d10f-4e19-d161-a616b7b674bd"
      },
      "source": [
        "# Bart에 필요한 것들 import\n",
        "from transformers import BartTokenizer, BartForConditionalGeneration, BartConfig\n",
        "\n",
        "model = BartForConditionalGeneration.from_pretrained('facebook/bart-large-cnn')\n",
        "tokenizer = BartTokenizer.from_pretrained('facebook/bart-large-cnn')"
      ],
      "execution_count": 16,
      "outputs": [
        {
          "output_type": "display_data",
          "data": {
            "application/vnd.jupyter.widget-view+json": {
              "model_id": "a060c26f89914717befa29b0093341d9",
              "version_minor": 0,
              "version_major": 2
            },
            "text/plain": [
              "Downloading:   0%|          | 0.00/1.55k [00:00<?, ?B/s]"
            ]
          },
          "metadata": {}
        },
        {
          "output_type": "display_data",
          "data": {
            "application/vnd.jupyter.widget-view+json": {
              "model_id": "80d34718f3ad4da385b68262ea3d9968",
              "version_minor": 0,
              "version_major": 2
            },
            "text/plain": [
              "Downloading:   0%|          | 0.00/1.51G [00:00<?, ?B/s]"
            ]
          },
          "metadata": {}
        },
        {
          "output_type": "display_data",
          "data": {
            "application/vnd.jupyter.widget-view+json": {
              "model_id": "98afe3f36c9a4b8da77ea417d8d002f1",
              "version_minor": 0,
              "version_major": 2
            },
            "text/plain": [
              "Downloading:   0%|          | 0.00/878k [00:00<?, ?B/s]"
            ]
          },
          "metadata": {}
        },
        {
          "output_type": "display_data",
          "data": {
            "application/vnd.jupyter.widget-view+json": {
              "model_id": "f22ea7649198410da74d05e5dfb98114",
              "version_minor": 0,
              "version_major": 2
            },
            "text/plain": [
              "Downloading:   0%|          | 0.00/446k [00:00<?, ?B/s]"
            ]
          },
          "metadata": {}
        },
        {
          "output_type": "display_data",
          "data": {
            "application/vnd.jupyter.widget-view+json": {
              "model_id": "b5b0bd31aaeb4157834c376740c2ca3e",
              "version_minor": 0,
              "version_major": 2
            },
            "text/plain": [
              "Downloading:   0%|          | 0.00/1.29M [00:00<?, ?B/s]"
            ]
          },
          "metadata": {}
        }
      ]
    },
    {
      "cell_type": "markdown",
      "metadata": {
        "id": "LQQtWB5Tf9NM"
      },
      "source": [
        "### Separated 4 regions 결과 요약"
      ]
    },
    {
      "cell_type": "code",
      "metadata": {
        "id": "fNVHdzXP-7fl"
      },
      "source": [
        "# Encoding the inputs and passing them to model.generate()\n",
        "\n",
        "# 요약 결과물 담을 리스트 생성\n",
        "summarized = []\n",
        "\n",
        "for group in extracted:\n",
        "    inputs = tokenizer.batch_encode_plus([''.join(group)],return_tensors='pt')\n",
        "    summary_ids = model.generate(inputs['input_ids'], early_stopping=True)\n",
        "    summarized.append(tokenizer.decode(summary_ids[0], skip_special_tokens=True))"
      ],
      "execution_count": 17,
      "outputs": []
    },
    {
      "cell_type": "code",
      "metadata": {
        "id": "kyBd8oco_c_N",
        "colab": {
          "base_uri": "https://localhost:8080/"
        },
        "outputId": "d0c8642a-dea5-4c62-cd17-38386d1052e0"
      },
      "source": [
        "# 문장 띄어쓰기 적용해서 print\n",
        "print(' '.join(summarized))"
      ],
      "execution_count": 18,
      "outputs": [
        {
          "output_type": "stream",
          "name": "stdout",
          "text": [
            "Romeo and Benvolio are invited to a feast by the Capulet family. Juliet talks with her mother and nurse about the possibility of marrying Paris. Juliet agrees to look at Paris during the feast to see if she thinks she could fall in love with him. Rosaline, whose name he reads on the list, will be there. Romeo tries to stop them by leaping between the combatants. Tybalt stabs Mercutio under Romeo’s arm, andMercutio dies. Romeo, in a rage, killsTybalt.Soon after, the Prince declares him forever banished from Verona for his crime. Juliet sees her beloved Romeo and realizes he has killed himself with poison.Just then, Friar Lawrence enters and realizes that Romeo has killed Paris and himself.At the same time, Juliet awakes.Friar Lawrence hears the coming of the watch and flees alone. Juliet drinks the potion, and the Nurse discovers her, apparently dead, the next morning. The Capulets grieve, and Juliet is entombed according to plan. Friar Lawrence’s message explaining the plan to Romeo never reaches Mantua. Its bearer, Friar John, gets confined to a quarantined house.\n"
          ]
        }
      ]
    },
    {
      "cell_type": "markdown",
      "metadata": {
        "id": "n9qA0Wm9gCfQ"
      },
      "source": [
        "### Top 문단 앞뒤 2 단락씩 추출한 결과 요약"
      ]
    },
    {
      "cell_type": "code",
      "metadata": {
        "id": "EhwKdTcG_dB5",
        "colab": {
          "base_uri": "https://localhost:8080/"
        },
        "outputId": "2a83919f-e617-446f-feb6-3936e1702b30"
      },
      "source": [
        "summarized2 = []\n",
        "\n",
        "for group in top:\n",
        "    inputs = tokenizer.batch_encode_plus([''.join(group)],return_tensors='pt')\n",
        "    summary_ids = model.generate(inputs['input_ids'], early_stopping=True)\n",
        "    summarized2.append(tokenizer.decode(summary_ids[0], skip_special_tokens=True))\n",
        "\n",
        "# 문장 띄어쓰기 적용해서 print\n",
        "print(' '.join(summarized2))"
      ],
      "execution_count": 19,
      "outputs": [
        {
          "output_type": "stream",
          "name": "stdout",
          "text": [
            "Romeo sneaks into Juliet’s room that night, and at last they consummate their marriage and their love. Juliet learns that her father, affected by the recent events, now intends for her to marry Paris in just three days.Unsure of how to proceed, Juliet asks her nurse for advice. Juliet must drink a potion that will make her appear to be dead the night before her wedding to Paris. After she is laid to rest in the family’s crypt, the Friar and Romeo will secretly retrieve her and she will be free to live with Romeo, away from their parents' feuding. Juliet drinks the potion, and the Nurse discovers her, apparently dead, the next morning. The Capulets grieve, and Juliet is entombed according to plan. Friar Lawrence’s message explaining the plan to Romeo never reaches Mantua. Its bearer, Friar John, gets confined to a quarantined house. Romeo learns only of Juliet's death and decides to kill himself rather than live without her. He buys a vial of poison from a reluctant Apothecary, then speeds back to Verona to take his own life at Juliet's tomb. He enters the tomb, sees Juliet’s inanimate body, drinks the poison, and dies by her side. Juliet sees her beloved Romeo and realizes he has killed himself with poison.Just then, Friar Lawrence enters and realizes that Romeo has killed Paris and himself.At the same time, Juliet awakes.Friar Lawrence hears the coming of the watch and flees alone.\n"
          ]
        }
      ]
    }
  ]
}