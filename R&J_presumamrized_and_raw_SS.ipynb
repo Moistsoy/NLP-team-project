{
  "nbformat": 4,
  "nbformat_minor": 0,
  "metadata": {
    "accelerator": "GPU",
    "colab": {
      "name": "R&J_presumamrized_and_raw_SS",
      "provenance": [],
      "collapsed_sections": [],
      "include_colab_link": true
    },
    "kernelspec": {
      "display_name": "Python 3",
      "name": "python3"
    },
    "language_info": {
      "name": "python"
    }
  },
  "cells": [
    {
      "cell_type": "markdown",
      "metadata": {
        "id": "view-in-github",
        "colab_type": "text"
      },
      "source": [
        "<a href=\"https://colab.research.google.com/github/Moistsoy/NLP-team-project/blob/main/R%26J_presumamrized_and_raw_SS.ipynb\" target=\"_parent\"><img src=\"https://colab.research.google.com/assets/colab-badge.svg\" alt=\"Open In Colab\"/></a>"
      ]
    },
    {
      "cell_type": "markdown",
      "metadata": {
        "id": "VvP5rsnKAVhG"
      },
      "source": [
        "# R&J Sentence Extraction (Presummarized)\n",
        "\n",
        "Extracted one group(five sentences) with maximized squared sum of emotion value from presummarized data."
      ]
    },
    {
      "cell_type": "code",
      "metadata": {
        "colab": {
          "base_uri": "https://localhost:8080/"
        },
        "id": "YY6tug4p536h",
        "outputId": "6963b46d-a25b-46c1-a8e0-f2db907dea86"
      },
      "source": [
        "!pip install text2emotion"
      ],
      "execution_count": 38,
      "outputs": [
        {
          "output_type": "stream",
          "name": "stdout",
          "text": [
            "Requirement already satisfied: text2emotion in /usr/local/lib/python3.7/dist-packages (0.0.5)\n",
            "Requirement already satisfied: emoji>=0.6.0 in /usr/local/lib/python3.7/dist-packages (from text2emotion) (1.6.1)\n",
            "Requirement already satisfied: nltk in /usr/local/lib/python3.7/dist-packages (from text2emotion) (3.2.5)\n",
            "Requirement already satisfied: six in /usr/local/lib/python3.7/dist-packages (from nltk->text2emotion) (1.15.0)\n"
          ]
        }
      ]
    },
    {
      "cell_type": "code",
      "metadata": {
        "id": "3IgWOKS-6N2-"
      },
      "source": [
        "text = \"\"\"In the streets of Verona, another brawl breaks out between the servants of the feuding noble families of Capulet and Montague. Benvolio, a Montague, tries to stop the fighting, but he is himself embroiled when Tybalt, a rash Capulet, arrives on the scene. After citizens outraged by the constant violence beat back the warring factions, Prince Escalus, the ruler of Verona, attempts to prevent any further conflicts between the families by decreeing death for any individual who disturbs the peace in the future. Romeo, the son of Montague, runs into his cousin Benvolio, who had earlier seen Romeo moping in a grove of sycamores. After some prodding by Benvolio, Romeo confides that he is in love with Rosaline, a woman who does not return his affections. Benvolio counsels him to forget this woman and find another, more beautiful one, but Romeo remains despondent. Meanwhile, Paris, a kinsman of the Prince, seeks Juliet’s hand in marriage. Her father Capulet, though happy at the match, asks Paris to wait two years, since Juliet is not yet even fourteen. Capulet dispatches a servant with a list of people to invite to a masquerade and feast he traditionally holds. He invites Paris to the feast, hoping that Paris will begin to win Juliet’s heart. Romeo and Benvolio, still discussing Rosaline, encounter the Capulet servant bearing the list of invitations. Benvolio suggests that they attend, since that will allow Romeo to compare his beloved to other beautiful women of Verona. Romeo agrees to go with Benvolio to the feast, but only because Rosaline, whose name he reads on the list, will be there. In Capulet’s household, young Juliet talks with her mother, Lady Capulet, and her nurse about the possibility of marrying Paris. Juliet has not yet considered marriage, but agrees to look at Paris during the feast to see if she thinks she could fall in love with him. The feast begins. A melancholy Romeo follows Benvolio and their witty friend Mercutio to Capulet’s house. Once inside, Romeo sees Juliet from a distance and instantly falls in love with her; he forgets about Rosaline completely. As Romeo watches Juliet, entranced, a young Capulet, Tybalt, recognizes him, and is enraged that a Montague would sneak into a Capulet feast. He prepares to attack, but Capulet holds him back. Soon, Romeo speaks to Juliet, and the two experience a profound attraction. They kiss, not even knowing each other’s names. When he finds out from Juliet’s nurse that she is the daughter of Capulet—his family’s enemy—he becomes distraught. When Juliet learns that the young man she has just kissed is the son of Montague, she grows equally upset. As Mercutio and Benvolio leave the Capulet estate, Romeo leaps over the orchard wall into the garden, unable to leave Juliet behind. From his hiding place, he sees Juliet in a window above the orchard and hears her speak his name. He calls out to her, and they exchange vows of love. Romeo hurries to see his friend and confessor Friar Lawrence, who, though shocked at the sudden turn of Romeo’s heart, agrees to marry the young lovers in secret since he sees in their love the possibility of ending the age-old feud between Capulet and Montague. The following day, Romeo and Juliet meet at Friar Lawrence’s cell and are married. The Nurse, who is privy to the secret, procures a ladder, which Romeo will use to climb into Juliet’s window for their wedding night. The next day, Benvolio and Mercutio encounter Tybalt—Juliet’s cousin—who, still enraged that Romeo attended Capulet’s feast, has challenged Romeo to a duel. Romeo appears. Now Tybalt’s kinsman by marriage, Romeo begs the Capulet to hold off the duel until he understands why Romeo does not want to fight. Disgusted with this plea for peace, Mercutio says that he will fight Tybalt himself. The two begin to duel. Romeo tries to stop them by leaping between the combatants. Tybalt stabs Mercutio under Romeo’s arm, and Mercutio dies. Romeo, in a rage, kills Tybalt. Romeo flees from the scene. Soon after, the Prince declares him forever banished from Verona for his crime. Friar Lawrence arranges for Romeo to spend his wedding night with Juliet before he has to leave for Mantua the following morning. In her room, Juliet awaits the arrival of her new husband. The Nurse enters, and, after some confusion, tells Juliet that Romeo has killed Tybalt. Distraught, Juliet suddenly finds herself married to a man who has killed her kinsman. But she resettles herself, and realizes that her duty belongs with her love: to Romeo. Romeo sneaks into Juliet’s room that night, and at last they consummate their marriage and their love. Morning comes, and the lovers bid farewell, unsure when they will see each other again. Juliet learns that her father, affected by the recent events, now intends for her to marry Paris in just three days. Unsure of how to proceed—unable to reveal to her parents that she is married to Romeo, but unwilling to marry Paris now that she is Romeo’s wife—Juliet asks her nurse for advice. She counsels Juliet to proceed as if Romeo were dead and to marry Paris, who is a better match anyway. Disgusted with the Nurse’s disloyalty, Juliet disregards her advice and hurries to Friar Lawrence. He concocts a plan to reunite Juliet with Romeo in Mantua. The night before her wedding to Paris, Juliet must drink a potion that will make her appear to be dead. After she is laid to rest in the family’s crypt, the Friar and Romeo will secretly retrieve her, and she will be free to live with Romeo, away from their parents’ feuding. Juliet returns home to discover the wedding has been moved ahead one day, and she is to be married tomorrow. That night, Juliet drinks the potion, and the Nurse discovers her, apparently dead, the next morning. The Capulets grieve, and Juliet is entombed according to plan. But Friar Lawrence’s message explaining the plan to Romeo never reaches Mantua. Its bearer, Friar John, gets confined to a quarantined house. Romeo hears only that Juliet is dead. Romeo learns only of Juliet’s death and decides to kill himself rather than live without her. He buys a vial of poison from a reluctant Apothecary, then speeds back to Verona to take his own life at Juliet’s tomb. Outside the Capulet crypt, Romeo comes upon Paris, who is scattering flowers on Juliet’s grave. They fight, and Romeo kills Paris. He enters the tomb, sees Juliet’s inanimate body, drinks the poison, and dies by her side. Just then, Friar Lawrence enters and realizes that Romeo has killed Paris and himself. At the same time, Juliet awakes. Friar Lawrence hears the coming of the watch. When Juliet refuses to leave with him, he flees alone. Juliet sees her beloved Romeo and realizes he has killed himself with poison. She kisses his poisoned lips, and when that does not kill her, buries his dagger in her chest, falling dead upon his body. The watch arrives, followed closely by the Prince, the Capulets, and Montague. Montague declares that Lady Montague has died of grief over Romeo’s exile. Seeing their children’s bodies, Capulet and Montague agree to end their long-standing feud and to raise gold statues of their children side-by-side in a newly peaceful Verona.\"\"\""
      ],
      "execution_count": 39,
      "outputs": []
    },
    {
      "cell_type": "code",
      "metadata": {
        "colab": {
          "base_uri": "https://localhost:8080/"
        },
        "id": "w5aqMZ0R8pHO",
        "outputId": "013dd07b-1f62-4ecf-b710-7f729e672734"
      },
      "source": [
        "import text2emotion as te\n",
        "\n",
        "# Whole text EA\n",
        "te.get_emotion(text)"
      ],
      "execution_count": 40,
      "outputs": [
        {
          "output_type": "execute_result",
          "data": {
            "text/plain": [
              "{'Angry': 0.1, 'Fear': 0.26, 'Happy': 0.15, 'Sad': 0.24, 'Surprise': 0.25}"
            ]
          },
          "metadata": {},
          "execution_count": 40
        }
      ]
    },
    {
      "cell_type": "code",
      "metadata": {
        "id": "8ytT9QBw-1_x"
      },
      "source": [
        "import nltk\n",
        "from nltk.tokenize import sent_tokenize\n",
        "\n",
        "# 문장 단위 tokenize\n",
        "tokenized = nltk.sent_tokenize(text)"
      ],
      "execution_count": 41,
      "outputs": []
    },
    {
      "cell_type": "code",
      "metadata": {
        "id": "iVvC21nN_v8i"
      },
      "source": [
        "grouped = []\n",
        "\n",
        "# 5 문장 단위로 묶기\n",
        "for i in range((len(tokenized) // 5) + 1):\n",
        "    grouped.append(tokenized[5*i:5*(i+1)])"
      ],
      "execution_count": 42,
      "outputs": []
    },
    {
      "cell_type": "code",
      "metadata": {
        "colab": {
          "base_uri": "https://localhost:8080/",
          "height": 87
        },
        "id": "pm4mebFMBpwV",
        "outputId": "643ca5f3-e77a-4ba4-89ca-adc68a2402b6"
      },
      "source": [
        "# 첫 묶음 확인\n",
        "''.join(grouped[0])"
      ],
      "execution_count": 43,
      "outputs": [
        {
          "output_type": "execute_result",
          "data": {
            "application/vnd.google.colaboratory.intrinsic+json": {
              "type": "string"
            },
            "text/plain": [
              "'In the streets of Verona, another brawl breaks out between the servants of the feuding noble families of Capulet and Montague.Benvolio, a Montague, tries to stop the fighting, but he is himself embroiled when Tybalt, a rash Capulet, arrives on the scene.After citizens outraged by the constant violence beat back the warring factions, Prince Escalus, the ruler of Verona, attempts to prevent any further conflicts between the families by decreeing death for any individual who disturbs the peace in the future.Romeo, the son of Montague, runs into his cousin Benvolio, who had earlier seen Romeo moping in a grove of sycamores.After some prodding by Benvolio, Romeo confides that he is in love with Rosaline, a woman who does not return his affections.'"
            ]
          },
          "metadata": {},
          "execution_count": 43
        }
      ]
    },
    {
      "cell_type": "code",
      "metadata": {
        "id": "VW9-RpzbAiXI"
      },
      "source": [
        "# get_emotion 결과물 저장할 리스트 생성\n",
        "emotions = []\n",
        "\n",
        "for group in grouped:\n",
        "    emotions.append(te.get_emotion(''.join(group)))"
      ],
      "execution_count": null,
      "outputs": []
    },
    {
      "cell_type": "code",
      "metadata": {
        "id": "-arQFloc6B64"
      },
      "source": [
        "# 각 group의 emotion value의 squared sum을 emotions_max에 저장\n",
        "emotions_max = []\n",
        "\n",
        "for i in range(len(emotions)):\n",
        "  emotions_max.append(emotions[i]['Angry'] ** 2 + emotions[i]['Sad'] ** 2 + emotions[i]['Happy'] ** 2 + emotions[i]['Fear'] ** 2 + emotions[i]['Surprise'] ** 2)"
      ],
      "execution_count": null,
      "outputs": []
    },
    {
      "cell_type": "code",
      "metadata": {
        "colab": {
          "base_uri": "https://localhost:8080/"
        },
        "id": "CHhP8CaF6BxE",
        "outputId": "be2c72f8-548d-4e7a-9fc8-7ef6c00ae2ba"
      },
      "source": [
        "# squared sum이 가장 큰 group 확인\n",
        "grouped[emotions_max.index(max(emotions_max))]"
      ],
      "execution_count": null,
      "outputs": [
        {
          "data": {
            "text/plain": [
              "['That night, Juliet drinks the potion, and the Nurse discovers her, apparently dead, the next morning.',\n",
              " 'The Capulets grieve, and Juliet is entombed according to plan.',\n",
              " 'But Friar Lawrence’s message explaining the plan to Romeo never reaches Mantua.',\n",
              " 'Its bearer, Friar John, gets confined to a quarantined house.',\n",
              " 'Romeo hears only that Juliet is dead.']"
            ]
          },
          "execution_count": 10,
          "metadata": {},
          "output_type": "execute_result"
        }
      ]
    },
    {
      "cell_type": "markdown",
      "metadata": {
        "id": "iKeqRkNZAH4u"
      },
      "source": [
        "# R&J Sentence Extraction (Whole Text)\n",
        "\n",
        "Extracted one group(five sentences) with maximized squared sum of emotion value from presummarized data."
      ]
    },
    {
      "cell_type": "code",
      "metadata": {
        "colab": {
          "base_uri": "https://localhost:8080/"
        },
        "id": "Eiv5Q1fNNgxZ",
        "outputId": "0d7766f9-efad-4d15-98b6-b36690f61606"
      },
      "source": [
        "!git clone https://github.com/Moistsoy/NLP-team-project.git"
      ],
      "execution_count": 73,
      "outputs": [
        {
          "output_type": "stream",
          "name": "stdout",
          "text": [
            "fatal: destination path 'NLP-team-project' already exists and is not an empty directory.\n"
          ]
        }
      ]
    },
    {
      "cell_type": "code",
      "metadata": {
        "id": "8oYSnEl0QzoC"
      },
      "source": [
        "### 여기부터 Data Cleaning Code 복붙함 ###"
      ],
      "execution_count": 74,
      "outputs": []
    },
    {
      "cell_type": "code",
      "metadata": {
        "id": "IGQFyz3Vvs2K"
      },
      "source": [
        "import sys\n",
        "sys.path.insert(0, '/content/NLP-team-project/data/raw')\n",
        "path = '/content/NLP-team-project/data/raw/'"
      ],
      "execution_count": 75,
      "outputs": []
    },
    {
      "cell_type": "code",
      "metadata": {
        "id": "RYTLwblewQdk"
      },
      "source": [
        "import os"
      ],
      "execution_count": 76,
      "outputs": []
    },
    {
      "cell_type": "code",
      "metadata": {
        "id": "kx72bX7JwCeK"
      },
      "source": [
        "# data/raw 폴더 안에 있는 파일 이름 원하는 것 입력. 다수의 data를 한번에 cleaning 하는 코드로 발전시키면 좋을 듯.\n",
        "filename = path + 'Romeo and Juliet.txt'\n",
        "with open(filename) as f:\n",
        "    txt = f.read()"
      ],
      "execution_count": 77,
      "outputs": []
    },
    {
      "cell_type": "code",
      "metadata": {
        "id": "6LtyV_JWRPWi"
      },
      "source": [
        "full_text = sent_tokenize(txt)"
      ],
      "execution_count": 78,
      "outputs": []
    },
    {
      "cell_type": "code",
      "metadata": {
        "id": "KO-1BHei0MNS"
      },
      "source": [
        "import re"
      ],
      "execution_count": 79,
      "outputs": []
    },
    {
      "cell_type": "code",
      "metadata": {
        "colab": {
          "base_uri": "https://localhost:8080/",
          "height": 35
        },
        "id": "stBgNmxxTvOt",
        "outputId": "52315486-d44d-4d2d-fe0b-56b8c36dcc47"
      },
      "source": [
        "full_text[0]"
      ],
      "execution_count": 80,
      "outputs": [
        {
          "output_type": "execute_result",
          "data": {
            "application/vnd.google.colaboratory.intrinsic+json": {
              "type": "string"
            },
            "text/plain": [
              "'Enter Sampson and Gregory armed with swords and bucklers.'"
            ]
          },
          "metadata": {},
          "execution_count": 80
        }
      ]
    },
    {
      "cell_type": "code",
      "metadata": {
        "id": "MtUpY4yvA15i"
      },
      "source": [
        "for i, text in enumerate(full_text):\n",
        "    \n",
        "    # 괄호 안 문자 제거\n",
        "    full_text[i] = re.sub(r'\\([^)]*\\)', '', full_text[i])\n",
        "    full_text[i] = re.sub(r'\\[[^)]*\\]', '', full_text[i])\n",
        "    full_text[i] = re.sub(r'\\{[^)]*\\}', '', full_text[i])\n",
        "\n",
        "    # 특수 문자 제거\n",
        "    full_text[i] = re.sub('[-=+,#/\\?:^$@*\\\"※~&%ㆍ!』\\\\‘|\\(\\)\\[\\]\\<\\>`\\'…》]', '', full_text[i])\n",
        "\n",
        "    # 대문자로만 이루어진 단어 제거\n",
        "    full_text[i] = re.sub('[A-Z][A-Z][A-Z]', '', full_text[i])\n",
        "    full_text[i] = re.sub('[A-Z] [A-Z]', '', full_text[i])\n",
        "\n",
        "    # 줄바꿈 및 불필요한 공백 제거\n",
        "    full_text[i] = full_text[i].replace('.\\n', ' ')\n",
        "    full_text[i] = full_text[i].replace('\\n', ' ')\n",
        "    full_text[i] = full_text[i].replace('\\n\\n', ' ')\n",
        "    full_text[i] = full_text[i].replace('\\n\\n\\n', ' ')\n",
        "    full_text[i] = full_text[i].replace('\\n\\n\\n\\n', ' ')\n",
        "    full_text[i] = full_text[i].replace('\\t', ' ')\n",
        "    full_text[i] = full_text[i].replace('\\t\\t', ' ')\n",
        "    full_text[i] = full_text[i].replace('\\r', ' ')\n",
        "    full_text[i] = full_text[i].replace('  ', ' ')\n",
        "    full_text[i] = full_text[i].replace('  ', ' ')\n",
        "    full_text[i] = full_text[i].replace('  ', ' ')\n",
        "    full_text[i] = full_text[i].replace('  ', ' ')\n",
        "    full_text[i] = full_text[i].replace('  ', ' ')\n",
        "    full_text[i] = full_text[i].replace('  ', ' ')\n",
        "\n",
        "    # 괄호 안 문자 제거\n",
        "    full_text[i] = re.sub(r'\\([^)]*\\)', '', full_text[i])\n",
        "    full_text[i] = re.sub(r'\\[[^)]*\\]', '', full_text[i])\n",
        "    full_text[i] = re.sub(r'\\{[^)]*\\}', '', full_text[i])\n",
        "\n",
        "    # 특수 문자 제거\n",
        "    full_text[i] = re.sub('[-=+,#/\\?:^$@*\\\"※~&%ㆍ!』\\\\‘|\\(\\)\\[\\]\\<\\>`\\'…》]', '', full_text[i])\n",
        "\n",
        "    # 대문자로만 이루어진 단어 제거\n",
        "    full_text[i] = re.sub('[A-Z][A-Z][A-Z]', '', full_text[i])\n",
        "    full_text[i] = re.sub('[A-Z][A-Z]', '', full_text[i])\n",
        "    if len(full_text[i]) < 5:\n",
        "        full_text[i] = ''\n",
        "\n",
        "    # 줄바꿈 및 불필요한 공백 제거\n",
        "    full_text[i] = full_text[i].replace('.\\n', ' ')\n",
        "    full_text[i] = full_text[i].replace('\\n', ' ')\n",
        "    full_text[i] = full_text[i].replace('\\n\\n', ' ')\n",
        "    full_text[i] = full_text[i].replace('\\n\\n\\n', ' ')\n",
        "    full_text[i] = full_text[i].replace('\\n\\n\\n\\n', ' ')\n",
        "    full_text[i] = full_text[i].replace('\\t', ' ')\n",
        "    full_text[i] = full_text[i].replace('\\t\\t', ' ')\n",
        "    full_text[i] = full_text[i].replace('\\r', ' ')\n",
        "    full_text[i] = full_text[i].replace('  ', ' ')\n",
        "    full_text[i] = full_text[i].replace('  ', ' ')\n",
        "    full_text[i] = full_text[i].replace('  ', ' ')\n",
        "    full_text[i] = full_text[i].replace('  ', ' ')\n",
        "    full_text[i] = full_text[i].replace('  ', ' ')\n",
        "    full_text[i] = full_text[i].replace('  ', ' ')\n",
        "\n",
        "    if full_text[i] == '':\n",
        "        del full_text[i]\n",
        "\n",
        "    \n",
        "    if full_text[i] == '':\n",
        "        del full_text[i]"
      ],
      "execution_count": 81,
      "outputs": []
    },
    {
      "cell_type": "code",
      "metadata": {
        "id": "zIdzqTn9Q4b1"
      },
      "source": [
        "### 여기까지 Data Cleaning Code ###"
      ],
      "execution_count": 82,
      "outputs": []
    },
    {
      "cell_type": "code",
      "metadata": {
        "id": "EQddKJS0O-Vj"
      },
      "source": [
        "full_text"
      ],
      "execution_count": null,
      "outputs": []
    },
    {
      "cell_type": "code",
      "metadata": {
        "colab": {
          "base_uri": "https://localhost:8080/"
        },
        "id": "Ft9_MBYVGQ2F",
        "outputId": "02421ec4-741b-40a7-e593-62b3b7b4cd7c"
      },
      "source": [
        "len(full_text)"
      ],
      "execution_count": 85,
      "outputs": [
        {
          "output_type": "execute_result",
          "data": {
            "text/plain": [
              "2119"
            ]
          },
          "metadata": {},
          "execution_count": 85
        }
      ]
    },
    {
      "cell_type": "code",
      "metadata": {
        "id": "KUQNgmuNAGvy"
      },
      "source": [
        "grouped_full = []\n",
        "\n",
        "# 5 문장 단위로 묶기\n",
        "for i in range((len(full_text) // 5) + 1):\n",
        "    grouped_full.append(full_text[5*i:5*(i+1)])"
      ],
      "execution_count": 87,
      "outputs": []
    },
    {
      "cell_type": "code",
      "metadata": {
        "id": "X4BmejeLAGtg"
      },
      "source": [
        "grouped_full"
      ],
      "execution_count": null,
      "outputs": []
    },
    {
      "cell_type": "code",
      "metadata": {
        "id": "e3K-tvLAAGrg"
      },
      "source": [
        "emotions_full = []\n",
        "\n",
        "for group in grouped_full:\n",
        "    emotions_full.append(te.get_emotion(''.join(group)))"
      ],
      "execution_count": 89,
      "outputs": []
    },
    {
      "cell_type": "code",
      "metadata": {
        "id": "xccT6BG-Hxbu"
      },
      "source": [
        "emotions_full"
      ],
      "execution_count": null,
      "outputs": []
    },
    {
      "cell_type": "code",
      "metadata": {
        "id": "USQjZV3dHd8d"
      },
      "source": [
        "# 극에 달하는 감정 부분 구하기\n",
        "emotions_full_max = []\n",
        "\n",
        "for i in range(len(emotions_full)):\n",
        "  emotions_full_max.append(emotions_full[i]['Angry'] ** 2 + emotions_full[i]['Sad'] ** 2 + emotions_full[i]['Happy'] ** 2 + emotions_full[i]['Fear'] ** 2 + emotions_full[i]['Surprise'] ** 2)"
      ],
      "execution_count": 91,
      "outputs": []
    },
    {
      "cell_type": "code",
      "metadata": {
        "id": "AxjTF26zHdyu"
      },
      "source": [
        "emotions_full_max"
      ],
      "execution_count": null,
      "outputs": []
    },
    {
      "cell_type": "code",
      "metadata": {
        "id": "vFZ0ZgeeHdwg"
      },
      "source": [
        "for i in range(len(emotions_full_max)):\n",
        "    if emotions_full_max[i] == 1.0:\n",
        "        print(grouped_full[i])\n",
        "    else:\n",
        "        pass"
      ],
      "execution_count": null,
      "outputs": []
    },
    {
      "cell_type": "code",
      "metadata": {
        "colab": {
          "base_uri": "https://localhost:8080/"
        },
        "id": "fkdWAjk-ARkc",
        "outputId": "29b5459b-18ea-4d96-e0d5-d633458b69f4"
      },
      "source": [
        "grouped_full[0]"
      ],
      "execution_count": 99,
      "outputs": [
        {
          "output_type": "execute_result",
          "data": {
            "text/plain": [
              "['Enter Sampson and Gregory armed with swords and bucklers.',\n",
              " 'Gregory on my word we’ll not carry coals.',\n",
              " 'No for then we should be colliers.',\n",
              " 'I mean if we be in choler we’ll draw.',\n",
              " 'Ay while you live draw your neck out o’ the collar.']"
            ]
          },
          "metadata": {},
          "execution_count": 99
        }
      ]
    },
    {
      "cell_type": "code",
      "metadata": {
        "id": "dB6nJRxZCAlG"
      },
      "source": [
        ""
      ],
      "execution_count": null,
      "outputs": []
    }
  ]
}