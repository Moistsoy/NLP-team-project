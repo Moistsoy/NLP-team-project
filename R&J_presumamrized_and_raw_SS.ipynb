{
  "nbformat": 4,
  "nbformat_minor": 0,
  "metadata": {
    "colab": {
      "name": "R&J_presumamrized_and_raw_SS",
      "provenance": [],
      "collapsed_sections": [],
      "include_colab_link": true
    },
    "kernelspec": {
      "name": "python3",
      "display_name": "Python 3"
    },
    "language_info": {
      "name": "python"
    },
    "accelerator": "GPU"
  },
  "cells": [
    {
      "cell_type": "markdown",
      "metadata": {
        "id": "view-in-github",
        "colab_type": "text"
      },
      "source": [
        "<a href=\"https://colab.research.google.com/github/Moistsoy/NLP-team-project/blob/main/R%26J_presumamrized_and_raw_SS.ipynb\" target=\"_parent\"><img src=\"https://colab.research.google.com/assets/colab-badge.svg\" alt=\"Open In Colab\"/></a>"
      ]
    },
    {
      "cell_type": "markdown",
      "metadata": {
        "id": "VvP5rsnKAVhG"
      },
      "source": [
        "# R&J Sentence Extraction (Presummarized)\n",
        "\n",
        "Extracted one group(five sentences) with maximized squared sum of emotion value from presummarized data."
      ]
    },
    {
      "cell_type": "code",
      "metadata": {
        "id": "YY6tug4p536h",
        "colab": {
          "base_uri": "https://localhost:8080/"
        },
        "outputId": "f0be2252-8bd9-41d7-9449-72dfdd33e211"
      },
      "source": [
        "!pip install text2emotion"
      ],
      "execution_count": 1,
      "outputs": [
        {
          "output_type": "stream",
          "name": "stdout",
          "text": [
            "Collecting text2emotion\n",
            "  Downloading text2emotion-0.0.5-py3-none-any.whl (57 kB)\n",
            "\u001b[?25l\r\u001b[K     |█████▊                          | 10 kB 25.2 MB/s eta 0:00:01\r\u001b[K     |███████████▍                    | 20 kB 30.3 MB/s eta 0:00:01\r\u001b[K     |█████████████████               | 30 kB 22.8 MB/s eta 0:00:01\r\u001b[K     |██████████████████████▊         | 40 kB 18.3 MB/s eta 0:00:01\r\u001b[K     |████████████████████████████▍   | 51 kB 14.1 MB/s eta 0:00:01\r\u001b[K     |████████████████████████████████| 57 kB 4.0 MB/s \n",
            "\u001b[?25hCollecting emoji>=0.6.0\n",
            "  Downloading emoji-1.6.1.tar.gz (170 kB)\n",
            "\u001b[K     |████████████████████████████████| 170 kB 21.7 MB/s \n",
            "\u001b[?25hRequirement already satisfied: nltk in /usr/local/lib/python3.7/dist-packages (from text2emotion) (3.2.5)\n",
            "Requirement already satisfied: six in /usr/local/lib/python3.7/dist-packages (from nltk->text2emotion) (1.15.0)\n",
            "Building wheels for collected packages: emoji\n",
            "  Building wheel for emoji (setup.py) ... \u001b[?25l\u001b[?25hdone\n",
            "  Created wheel for emoji: filename=emoji-1.6.1-py3-none-any.whl size=169314 sha256=6ba5e98d387dfbc90affefeaade32233b2b2a620d0fc03b6bce4f85a1d628498\n",
            "  Stored in directory: /root/.cache/pip/wheels/ea/5f/d3/03d313ddb3c2a1a427bb4690f1621eea60fe6f2a30cc95940f\n",
            "Successfully built emoji\n",
            "Installing collected packages: emoji, text2emotion\n",
            "Successfully installed emoji-1.6.1 text2emotion-0.0.5\n"
          ]
        }
      ]
    },
    {
      "cell_type": "code",
      "metadata": {
        "id": "3IgWOKS-6N2-"
      },
      "source": [
        "text = \"\"\"In the streets of Verona, another brawl breaks out between the servants of the feuding noble families of Capulet and Montague. Benvolio, a Montague, tries to stop the fighting, but he is himself embroiled when Tybalt, a rash Capulet, arrives on the scene. After citizens outraged by the constant violence beat back the warring factions, Prince Escalus, the ruler of Verona, attempts to prevent any further conflicts between the families by decreeing death for any individual who disturbs the peace in the future. Romeo, the son of Montague, runs into his cousin Benvolio, who had earlier seen Romeo moping in a grove of sycamores. After some prodding by Benvolio, Romeo confides that he is in love with Rosaline, a woman who does not return his affections. Benvolio counsels him to forget this woman and find another, more beautiful one, but Romeo remains despondent. Meanwhile, Paris, a kinsman of the Prince, seeks Juliet’s hand in marriage. Her father Capulet, though happy at the match, asks Paris to wait two years, since Juliet is not yet even fourteen. Capulet dispatches a servant with a list of people to invite to a masquerade and feast he traditionally holds. He invites Paris to the feast, hoping that Paris will begin to win Juliet’s heart. Romeo and Benvolio, still discussing Rosaline, encounter the Capulet servant bearing the list of invitations. Benvolio suggests that they attend, since that will allow Romeo to compare his beloved to other beautiful women of Verona. Romeo agrees to go with Benvolio to the feast, but only because Rosaline, whose name he reads on the list, will be there. In Capulet’s household, young Juliet talks with her mother, Lady Capulet, and her nurse about the possibility of marrying Paris. Juliet has not yet considered marriage, but agrees to look at Paris during the feast to see if she thinks she could fall in love with him. The feast begins. A melancholy Romeo follows Benvolio and their witty friend Mercutio to Capulet’s house. Once inside, Romeo sees Juliet from a distance and instantly falls in love with her; he forgets about Rosaline completely. As Romeo watches Juliet, entranced, a young Capulet, Tybalt, recognizes him, and is enraged that a Montague would sneak into a Capulet feast. He prepares to attack, but Capulet holds him back. Soon, Romeo speaks to Juliet, and the two experience a profound attraction. They kiss, not even knowing each other’s names. When he finds out from Juliet’s nurse that she is the daughter of Capulet—his family’s enemy—he becomes distraught. When Juliet learns that the young man she has just kissed is the son of Montague, she grows equally upset. As Mercutio and Benvolio leave the Capulet estate, Romeo leaps over the orchard wall into the garden, unable to leave Juliet behind. From his hiding place, he sees Juliet in a window above the orchard and hears her speak his name. He calls out to her, and they exchange vows of love. Romeo hurries to see his friend and confessor Friar Lawrence, who, though shocked at the sudden turn of Romeo’s heart, agrees to marry the young lovers in secret since he sees in their love the possibility of ending the age-old feud between Capulet and Montague. The following day, Romeo and Juliet meet at Friar Lawrence’s cell and are married. The Nurse, who is privy to the secret, procures a ladder, which Romeo will use to climb into Juliet’s window for their wedding night. The next day, Benvolio and Mercutio encounter Tybalt—Juliet’s cousin—who, still enraged that Romeo attended Capulet’s feast, has challenged Romeo to a duel. Romeo appears. Now Tybalt’s kinsman by marriage, Romeo begs the Capulet to hold off the duel until he understands why Romeo does not want to fight. Disgusted with this plea for peace, Mercutio says that he will fight Tybalt himself. The two begin to duel. Romeo tries to stop them by leaping between the combatants. Tybalt stabs Mercutio under Romeo’s arm, and Mercutio dies. Romeo, in a rage, kills Tybalt. Romeo flees from the scene. Soon after, the Prince declares him forever banished from Verona for his crime. Friar Lawrence arranges for Romeo to spend his wedding night with Juliet before he has to leave for Mantua the following morning. In her room, Juliet awaits the arrival of her new husband. The Nurse enters, and, after some confusion, tells Juliet that Romeo has killed Tybalt. Distraught, Juliet suddenly finds herself married to a man who has killed her kinsman. But she resettles herself, and realizes that her duty belongs with her love: to Romeo. Romeo sneaks into Juliet’s room that night, and at last they consummate their marriage and their love. Morning comes, and the lovers bid farewell, unsure when they will see each other again. Juliet learns that her father, affected by the recent events, now intends for her to marry Paris in just three days. Unsure of how to proceed—unable to reveal to her parents that she is married to Romeo, but unwilling to marry Paris now that she is Romeo’s wife—Juliet asks her nurse for advice. She counsels Juliet to proceed as if Romeo were dead and to marry Paris, who is a better match anyway. Disgusted with the Nurse’s disloyalty, Juliet disregards her advice and hurries to Friar Lawrence. He concocts a plan to reunite Juliet with Romeo in Mantua. The night before her wedding to Paris, Juliet must drink a potion that will make her appear to be dead. After she is laid to rest in the family’s crypt, the Friar and Romeo will secretly retrieve her, and she will be free to live with Romeo, away from their parents’ feuding. Juliet returns home to discover the wedding has been moved ahead one day, and she is to be married tomorrow. That night, Juliet drinks the potion, and the Nurse discovers her, apparently dead, the next morning. The Capulets grieve, and Juliet is entombed according to plan. But Friar Lawrence’s message explaining the plan to Romeo never reaches Mantua. Its bearer, Friar John, gets confined to a quarantined house. Romeo hears only that Juliet is dead. Romeo learns only of Juliet’s death and decides to kill himself rather than live without her. He buys a vial of poison from a reluctant Apothecary, then speeds back to Verona to take his own life at Juliet’s tomb. Outside the Capulet crypt, Romeo comes upon Paris, who is scattering flowers on Juliet’s grave. They fight, and Romeo kills Paris. He enters the tomb, sees Juliet’s inanimate body, drinks the poison, and dies by her side. Just then, Friar Lawrence enters and realizes that Romeo has killed Paris and himself. At the same time, Juliet awakes. Friar Lawrence hears the coming of the watch. When Juliet refuses to leave with him, he flees alone. Juliet sees her beloved Romeo and realizes he has killed himself with poison. She kisses his poisoned lips, and when that does not kill her, buries his dagger in her chest, falling dead upon his body. The watch arrives, followed closely by the Prince, the Capulets, and Montague. Montague declares that Lady Montague has died of grief over Romeo’s exile. Seeing their children’s bodies, Capulet and Montague agree to end their long-standing feud and to raise gold statues of their children side-by-side in a newly peaceful Verona.\"\"\""
      ],
      "execution_count": 2,
      "outputs": []
    },
    {
      "cell_type": "code",
      "metadata": {
        "id": "w5aqMZ0R8pHO",
        "colab": {
          "base_uri": "https://localhost:8080/"
        },
        "outputId": "16e2cfce-7bb2-477d-b62c-d541866c7aae"
      },
      "source": [
        "import text2emotion as te\n",
        "\n",
        "# Whole text EA\n",
        "te.get_emotion(text)"
      ],
      "execution_count": 3,
      "outputs": [
        {
          "output_type": "stream",
          "name": "stdout",
          "text": [
            "[nltk_data] Downloading package stopwords to /root/nltk_data...\n",
            "[nltk_data]   Unzipping corpora/stopwords.zip.\n",
            "[nltk_data] Downloading package punkt to /root/nltk_data...\n",
            "[nltk_data]   Unzipping tokenizers/punkt.zip.\n",
            "[nltk_data] Downloading package wordnet to /root/nltk_data...\n",
            "[nltk_data]   Unzipping corpora/wordnet.zip.\n"
          ]
        },
        {
          "output_type": "execute_result",
          "data": {
            "text/plain": [
              "{'Angry': 0.1, 'Fear': 0.26, 'Happy': 0.15, 'Sad': 0.24, 'Surprise': 0.25}"
            ]
          },
          "metadata": {},
          "execution_count": 3
        }
      ]
    },
    {
      "cell_type": "code",
      "metadata": {
        "id": "8ytT9QBw-1_x"
      },
      "source": [
        "import nltk\n",
        "from nltk.tokenize import sent_tokenize\n",
        "\n",
        "# 문장 단위 tokenize\n",
        "tokenized = nltk.sent_tokenize(text)"
      ],
      "execution_count": 4,
      "outputs": []
    },
    {
      "cell_type": "code",
      "metadata": {
        "id": "iVvC21nN_v8i"
      },
      "source": [
        "grouped = []\n",
        "\n",
        "# 5 문장 단위로 묶기\n",
        "for i in range((len(tokenized) // 5) + 1):\n",
        "    grouped.append(tokenized[5*i:5*(i+1)])"
      ],
      "execution_count": 5,
      "outputs": []
    },
    {
      "cell_type": "code",
      "metadata": {
        "id": "pm4mebFMBpwV",
        "colab": {
          "base_uri": "https://localhost:8080/",
          "height": 87
        },
        "outputId": "1ddacee9-26a5-4a68-9125-33f9990fda79"
      },
      "source": [
        "# 첫 묶음 확인\n",
        "''.join(grouped[0])"
      ],
      "execution_count": 6,
      "outputs": [
        {
          "output_type": "execute_result",
          "data": {
            "application/vnd.google.colaboratory.intrinsic+json": {
              "type": "string"
            },
            "text/plain": [
              "'In the streets of Verona, another brawl breaks out between the servants of the feuding noble families of Capulet and Montague.Benvolio, a Montague, tries to stop the fighting, but he is himself embroiled when Tybalt, a rash Capulet, arrives on the scene.After citizens outraged by the constant violence beat back the warring factions, Prince Escalus, the ruler of Verona, attempts to prevent any further conflicts between the families by decreeing death for any individual who disturbs the peace in the future.Romeo, the son of Montague, runs into his cousin Benvolio, who had earlier seen Romeo moping in a grove of sycamores.After some prodding by Benvolio, Romeo confides that he is in love with Rosaline, a woman who does not return his affections.'"
            ]
          },
          "metadata": {},
          "execution_count": 6
        }
      ]
    },
    {
      "cell_type": "code",
      "metadata": {
        "id": "VW9-RpzbAiXI"
      },
      "source": [
        "# get_emotion 결과물 저장할 리스트 생성\n",
        "emotions = []\n",
        "\n",
        "for group in grouped:\n",
        "    emotions.append(te.get_emotion(''.join(group)))"
      ],
      "execution_count": null,
      "outputs": []
    },
    {
      "cell_type": "code",
      "metadata": {
        "id": "-arQFloc6B64"
      },
      "source": [
        "# 각 group의 emotion value의 squared sum을 emotions_max에 저장\n",
        "emotions_max = []\n",
        "\n",
        "for i in range(len(emotions)):\n",
        "  emotions_max.append(emotions[i]['Angry'] ** 2 + emotions[i]['Sad'] ** 2 + emotions[i]['Happy'] ** 2 + emotions[i]['Fear'] ** 2 + emotions[i]['Surprise'] ** 2)"
      ],
      "execution_count": null,
      "outputs": []
    },
    {
      "cell_type": "code",
      "metadata": {
        "colab": {
          "base_uri": "https://localhost:8080/"
        },
        "id": "CHhP8CaF6BxE",
        "outputId": "be2c72f8-548d-4e7a-9fc8-7ef6c00ae2ba"
      },
      "source": [
        "# squared sum이 가장 큰 group 확인\n",
        "grouped[emotions_max.index(max(emotions_max))]"
      ],
      "execution_count": null,
      "outputs": [
        {
          "output_type": "execute_result",
          "data": {
            "text/plain": [
              "['That night, Juliet drinks the potion, and the Nurse discovers her, apparently dead, the next morning.',\n",
              " 'The Capulets grieve, and Juliet is entombed according to plan.',\n",
              " 'But Friar Lawrence’s message explaining the plan to Romeo never reaches Mantua.',\n",
              " 'Its bearer, Friar John, gets confined to a quarantined house.',\n",
              " 'Romeo hears only that Juliet is dead.']"
            ]
          },
          "metadata": {},
          "execution_count": 10
        }
      ]
    },
    {
      "cell_type": "markdown",
      "metadata": {
        "id": "iKeqRkNZAH4u"
      },
      "source": [
        "# R&J Sentence Extraction (Whole Text)\n",
        "\n",
        "Extracted one group(five sentences) with maximized squared sum of emotion value from presummarized data."
      ]
    },
    {
      "cell_type": "code",
      "metadata": {
        "colab": {
          "base_uri": "https://localhost:8080/"
        },
        "id": "Eiv5Q1fNNgxZ",
        "outputId": "ed02c79f-631a-4365-a361-8dc25ab86250"
      },
      "source": [
        "!git clone https://github.com/Moistsoy/NLP-team-project.git"
      ],
      "execution_count": 7,
      "outputs": [
        {
          "output_type": "stream",
          "name": "stdout",
          "text": [
            "Cloning into 'NLP-team-project'...\n",
            "remote: Enumerating objects: 232, done.\u001b[K\n",
            "remote: Counting objects: 100% (232/232), done.\u001b[K\n",
            "remote: Compressing objects: 100% (225/225), done.\u001b[K\n",
            "remote: Total 232 (delta 110), reused 3 (delta 0), pack-reused 0\u001b[K\n",
            "Receiving objects: 100% (232/232), 18.32 MiB | 15.59 MiB/s, done.\n",
            "Resolving deltas: 100% (110/110), done.\n"
          ]
        }
      ]
    },
    {
      "cell_type": "code",
      "metadata": {
        "id": "8oYSnEl0QzoC"
      },
      "source": [
        "### 여기부터 Data Cleaning Code 복붙함 ###"
      ],
      "execution_count": 8,
      "outputs": []
    },
    {
      "cell_type": "code",
      "metadata": {
        "id": "IGQFyz3Vvs2K"
      },
      "source": [
        "import sys\n",
        "sys.path.insert(0, '/content/NLP-team-project/data/raw')\n",
        "path = '/content/NLP-team-project/data/raw/'"
      ],
      "execution_count": 9,
      "outputs": []
    },
    {
      "cell_type": "code",
      "metadata": {
        "id": "RYTLwblewQdk"
      },
      "source": [
        "import os"
      ],
      "execution_count": 10,
      "outputs": []
    },
    {
      "cell_type": "code",
      "metadata": {
        "id": "kx72bX7JwCeK"
      },
      "source": [
        "# data/raw 폴더 안에 있는 파일 이름 원하는 것 입력. 다수의 data를 한번에 cleaning 하는 코드로 발전시키면 좋을 듯.\n",
        "filename = path + 'Romeo and Juliet.txt'\n",
        "with open(filename) as f:\n",
        "    txt = f.read()"
      ],
      "execution_count": 11,
      "outputs": []
    },
    {
      "cell_type": "code",
      "metadata": {
        "id": "6LtyV_JWRPWi"
      },
      "source": [
        "full_text = sent_tokenize(txt)"
      ],
      "execution_count": 12,
      "outputs": []
    },
    {
      "cell_type": "code",
      "metadata": {
        "id": "KO-1BHei0MNS"
      },
      "source": [
        "import re"
      ],
      "execution_count": 13,
      "outputs": []
    },
    {
      "cell_type": "code",
      "metadata": {
        "colab": {
          "base_uri": "https://localhost:8080/",
          "height": 35
        },
        "id": "stBgNmxxTvOt",
        "outputId": "00e5362b-5530-4d11-979b-88ad2919b0c6"
      },
      "source": [
        "full_text[0]"
      ],
      "execution_count": 14,
      "outputs": [
        {
          "output_type": "execute_result",
          "data": {
            "application/vnd.google.colaboratory.intrinsic+json": {
              "type": "string"
            },
            "text/plain": [
              "'Enter Sampson and Gregory armed with swords and bucklers.'"
            ]
          },
          "metadata": {},
          "execution_count": 14
        }
      ]
    },
    {
      "cell_type": "code",
      "metadata": {
        "id": "MtUpY4yvA15i"
      },
      "source": [
        "# 줄바꿈 및 불필요한 공백 제거\n",
        "for text, \n",
        "    \n",
        "    print(text)\n",
        "    full_text[i] = full_text[i].replace('.\\n', ' ')\n",
        "    full_text[i] = full_text[i].replace('\\n', ' ')\n",
        "    full_text[i] = full_text[i].replace('\\n\\n', ' ')\n",
        "    full_text[i] = full_text[i].replace('\\n\\n\\n', ' ')\n",
        "    full_text[i] = full_text[i].replace('\\n\\n\\n\\n', ' ')\n",
        "    full_text[i] = full_text[i].replace('\\t', ' ')\n",
        "    full_text[i] = full_text[i].replace('\\t\\t', ' ')\n",
        "    full_text[i] = full_text[i].replace('\\r', ' ')\n",
        "    full_text[i] = full_text[i].replace('  ', ' ')\n",
        "    full_text[i] = full_text[i].replace('  ', ' ')\n",
        "    full_text[i] = full_text[i].replace('  ', ' ')\n",
        "    full_text[i] = full_text[i].replace('  ', ' ')\n",
        "    full_text[i] = full_text[i].replace('  ', ' ')\n",
        "    full_text[i] = full_text[i].replace('  ', ' ')\n",
        "\n",
        "    # 괄호 안 문자 제거\n",
        "    full_text[i] = re.sub(r'\\([^)]*\\)', '', full_text[i])\n",
        "    full_text[i] = re.sub(r'\\[[^)]*\\]', '', full_text[i])\n",
        "    full_text[i] = re.sub(r'\\{[^)]*\\}', '', full_text[i])\n",
        "\n",
        "    # 특수 문자 제거\n",
        "    full_text[i] = re.sub('[-=+,#/\\?:^$@*\\\"※~&%ㆍ!』\\\\‘|\\(\\)\\[\\]\\<\\>`\\'…》]', '', full_text[i])\n",
        "\n",
        "    # 대문자로만 이루어진 단어 제거\n",
        "    full_text[i] = re.sub('[A-Z] [A-Z]', '', full_text[i])\n"
      ],
      "execution_count": null,
      "outputs": []
    },
    {
      "cell_type": "code",
      "metadata": {
        "id": "zIdzqTn9Q4b1"
      },
      "source": [
        "### 여기까지 Data Cleaning Code ###"
      ],
      "execution_count": null,
      "outputs": []
    },
    {
      "cell_type": "code",
      "metadata": {
        "id": "EQddKJS0O-Vj"
      },
      "source": [
        "full_text"
      ],
      "execution_count": null,
      "outputs": []
    },
    {
      "cell_type": "code",
      "metadata": {
        "id": "tIGcIBA0AGx1"
      },
      "source": [
        "tokenized_full = nltk.sent_tokenize(full_text)"
      ],
      "execution_count": null,
      "outputs": []
    },
    {
      "cell_type": "code",
      "metadata": {
        "colab": {
          "base_uri": "https://localhost:8080/"
        },
        "id": "Ft9_MBYVGQ2F",
        "outputId": "2356ebfc-f53b-4ed3-dd56-b54ae77a5da9"
      },
      "source": [
        "len(tokenized_full)"
      ],
      "execution_count": null,
      "outputs": [
        {
          "output_type": "execute_result",
          "data": {
            "text/plain": [
              "12"
            ]
          },
          "metadata": {},
          "execution_count": 55
        }
      ]
    },
    {
      "cell_type": "code",
      "metadata": {
        "id": "KUQNgmuNAGvy"
      },
      "source": [
        "grouped_full = []\n",
        "\n",
        "# 5 문장 단위로 묶기\n",
        "for i in range((len(tokenized_full) // 5) + 1):\n",
        "    grouped_full.append(tokenized_full[5*i:5*(i+1)])"
      ],
      "execution_count": null,
      "outputs": []
    },
    {
      "cell_type": "code",
      "metadata": {
        "id": "X4BmejeLAGtg"
      },
      "source": [
        "grouped_full"
      ],
      "execution_count": null,
      "outputs": []
    },
    {
      "cell_type": "code",
      "metadata": {
        "id": "e3K-tvLAAGrg"
      },
      "source": [
        "emotions_full = []\n",
        "\n",
        "for group in grouped_full:\n",
        "    emotions_full.append(te.get_emotion(''.join(group)))"
      ],
      "execution_count": null,
      "outputs": []
    },
    {
      "cell_type": "code",
      "metadata": {
        "id": "xccT6BG-Hxbu"
      },
      "source": [
        "emotions_full"
      ],
      "execution_count": null,
      "outputs": []
    },
    {
      "cell_type": "code",
      "metadata": {
        "id": "USQjZV3dHd8d"
      },
      "source": [
        "# 극에 달하는 감정 부분 구하기\n",
        "emotions_full_max = []\n",
        "\n",
        "for i in range(len(emotions_full)):\n",
        "  emotions_full_max.append(emotions_full[i]['Angry'] ** 2 + emotions_full[i]['Sad'] ** 2 + emotions_full[i]['Happy'] ** 2 + emotions_full[i]['Fear'] ** 2 + emotions_full[i]['Surprise'] ** 2)"
      ],
      "execution_count": null,
      "outputs": []
    },
    {
      "cell_type": "code",
      "metadata": {
        "id": "AxjTF26zHdyu"
      },
      "source": [
        "emotions_full_max"
      ],
      "execution_count": null,
      "outputs": []
    },
    {
      "cell_type": "code",
      "metadata": {
        "colab": {
          "base_uri": "https://localhost:8080/"
        },
        "id": "vFZ0ZgeeHdwg",
        "outputId": "f597b217-7774-4d9b-84a9-3823d197e151"
      },
      "source": [
        "grouped[emotions_full_max.index(max(emotions_full_max))]"
      ],
      "execution_count": null,
      "outputs": [
        {
          "output_type": "execute_result",
          "data": {
            "text/plain": [
              "['Soon, Romeo speaks to Juliet, and the two experience a profound attraction.',\n",
              " 'They kiss, not even knowing each other’s names.',\n",
              " 'When he finds out from Juliet’s nurse that she is the daughter of Capulet—his family’s enemy—he becomes distraught.',\n",
              " 'When Juliet learns that the young man she has just kissed is the son of Montague, she grows equally upset.',\n",
              " 'As Mercutio and Benvolio leave the Capulet estate, Romeo leaps over the orchard wall into the garden, unable to leave Juliet behind.']"
            ]
          },
          "metadata": {},
          "execution_count": 125
        }
      ]
    }
  ]
}